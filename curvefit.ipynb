{
  "cells": [
    {
      "cell_type": "code",
      "execution_count": null,
      "metadata": {
        "id": "tli1G02KM-Nw"
      },
      "outputs": [
        {
          "name": "stdout",
          "output_type": "stream",
          "text": [
            "1.9.1\n"
          ]
        }
      ],
      "source": [
        "import numpy as np\n",
        "import matplotlib.pyplot as plt\n",
        "import pandas as pd\n",
        "\n",
        "from scipy.optimize import curve_fit\n",
        "\n",
        "# scipy 설치 안되어있으면 pip install scipy 하면 됨\n",
        "# 밑에는 단순히 설치되었는지 확인용 코드\n",
        "import scipy\n",
        "print(scipy.__version__)"
      ]
    },
    {
      "cell_type": "markdown",
      "metadata": {
        "id": "dD5YUVueYH3x"
      },
      "source": [
        "**Well determined system**"
      ]
    },
    {
      "cell_type": "markdown",
      "metadata": {
        "id": "Gm--R7GUYNmg"
      },
      "source": [
        "Curve fitting with *curve_fit* in scipy"
      ]
    },
    {
      "cell_type": "code",
      "execution_count": 38,
      "metadata": {
        "id": "b-bY6Kz4NMfm"
      },
      "outputs": [],
      "source": [
        "x_data = np.array([1, 2, 3])    \n",
        "# generate samples manually\n",
        "# x_data = np.random.randn(3,1)       \n",
        "# 위 주석처리된 코드는 정규 분포를 따르는 난수(평균 0, 표준편차 1)를 3x1 배열로 생성         \n",
        "# 3: # samples, 1: # features\n",
        "\n",
        "# numpy 배열을 직접 생성하여 입력 데이터로 사용\n",
        "# [1, 2, 3]이라는 3개의 샘플이 존재함"
      ]
    },
    {
      "cell_type": "code",
      "execution_count": 39,
      "metadata": {
        "id": "_RLPFYl4Vzg1"
      },
      "outputs": [],
      "source": [
        "f = lambda x: 3*x**2-1                       \n",
        "# Define underlying true function\n",
        "# 주어진 x 값에 대해 2차 함수를 계산하는 람다 함수를 정의"
      ]
    },
    {
      "cell_type": "code",
      "execution_count": null,
      "metadata": {
        "id": "oDd8IrrWV0ZM"
      },
      "outputs": [
        {
          "name": "stdout",
          "output_type": "stream",
          "text": [
            "[ 2 11 26]\n"
          ]
        }
      ],
      "source": [
        "y_data = f(x_data)\n",
        "print(y_data) \n",
        "# 이렇게 하면 한 줄에 다 출력되지 않고 줄바꿈이 발생할 수 있음\n",
        "# 일시적으로 [ 2 11]로 보임\n",
        "print(len(y_data)) \n",
        "# 배열 길이 확인 "
      ]
    },
    {
      "cell_type": "code",
      "execution_count": 29,
      "metadata": {
        "id": "Df4AZ8ZlYBk0"
      },
      "outputs": [],
      "source": [
        "def my_func(x,a,b,c):\n",
        "  return a*x**2+b*x+c"
      ]
    },
    {
      "cell_type": "code",
      "execution_count": null,
      "metadata": {
        "id": "1VeE8A2eWpb_"
      },
      "outputs": [],
      "source": [
        "params1, cov1 = curve_fit(my_func, x_data, y_data)\n",
        "# my_func(x, a, b, c)를 사용하여 x_data, y_data를 가장 잘 맞추는 최적의 a, b, c 값을 찾음\n",
        "# curve_fit은 비선형 최소제곱법(Least Squares Method)을 사용하여 최적의 계수를 찾음"
      ]
    },
    {
      "cell_type": "code",
      "execution_count": null,
      "metadata": {
        "id": "ubrPL9LVXAUP"
      },
      "outputs": [
        {
          "name": "stdout",
          "output_type": "stream",
          "text": [
            "[ 3.00000000e+00 -2.17603713e-12 -1.00000000e+00]\n"
          ]
        }
      ],
      "source": [
        "print(params1)\n",
        "# 최적의 a, b, c 값이 저장됨\n",
        "# my_func(x, a, b, c)가 f(x) = 3x^2 - 1과 정확히 일치하기 때문에, curve_fit이 a=3, b=0, c=-1을 찾아냄\n",
        "# 대략 3, 0(매우 작은 값이여서 0에 가까움), -1"
      ]
    },
    {
      "cell_type": "code",
      "execution_count": null,
      "metadata": {
        "id": "_wUOHKiIY_Dq"
      },
      "outputs": [
        {
          "name": "stdout",
          "output_type": "stream",
          "text": [
            "[[inf inf inf]\n",
            " [inf inf inf]\n",
            " [inf inf inf]]\n"
          ]
        }
      ],
      "source": [
        "print(cov1) \n",
        "# could not be estimated because we the answer is exactly correct\n",
        "# 공분산 행렬은 매개변수 추정의 신뢰도를 나타냄\n",
        "# 여기서는 데이터가 완전히 y = 3x^2 - 1에 맞아떨어지기 때문에 오차가 0이 됨\n",
        "# 추정할 필요가 없으므로 공분산 행렬을 계산할 수 없음"
      ]
    },
    {
      "cell_type": "markdown",
      "metadata": {
        "id": "vDPAV3wVXMdz"
      },
      "source": [
        "**Under determined system**"
      ]
    },
    {
      "cell_type": "code",
      "execution_count": 33,
      "metadata": {
        "id": "3Za0Yuu8XQK3"
      },
      "outputs": [],
      "source": [
        "x_data = np.array([1, 2])\n",
        "y_data = f(x_data)"
      ]
    },
    {
      "cell_type": "code",
      "execution_count": 34,
      "metadata": {
        "id": "hrjhQJ6NZQX6"
      },
      "outputs": [
        {
          "name": "stdout",
          "output_type": "stream",
          "text": [
            "[1 2] [ 2 11]\n"
          ]
        }
      ],
      "source": [
        "print(x_data, y_data)"
      ]
    },
    {
      "cell_type": "code",
      "execution_count": null,
      "metadata": {
        "id": "nHEspUHTZWci"
      },
      "outputs": [
        {
          "ename": "TypeError",
          "evalue": "The number of func parameters=3 must not exceed the number of data points=2",
          "output_type": "error",
          "traceback": [
            "\u001b[1;31m---------------------------------------------------------------------------\u001b[0m",
            "\u001b[1;31mTypeError\u001b[0m                                 Traceback (most recent call last)",
            "\u001b[1;32m~\\AppData\\Local\\Temp\\ipykernel_21288\\167115973.py\u001b[0m in \u001b[0;36m<module>\u001b[1;34m\u001b[0m\n\u001b[1;32m----> 1\u001b[1;33m \u001b[0mparams2\u001b[0m\u001b[1;33m,\u001b[0m \u001b[0mcov2\u001b[0m \u001b[1;33m=\u001b[0m \u001b[0mcurve_fit\u001b[0m\u001b[1;33m(\u001b[0m\u001b[0mmy_func\u001b[0m\u001b[1;33m,\u001b[0m \u001b[0mx_data\u001b[0m\u001b[1;33m,\u001b[0m \u001b[0my_data\u001b[0m\u001b[1;33m)\u001b[0m\u001b[1;33m\u001b[0m\u001b[1;33m\u001b[0m\u001b[0m\n\u001b[0m",
            "\u001b[1;32mc:\\Users\\epoin\\anaconda3\\lib\\site-packages\\scipy\\optimize\\_minpack_py.py\u001b[0m in \u001b[0;36mcurve_fit\u001b[1;34m(f, xdata, ydata, p0, sigma, absolute_sigma, check_finite, bounds, method, jac, full_output, **kwargs)\u001b[0m\n\u001b[0;32m    830\u001b[0m         \u001b[1;31m# if ydata.size == 1, this might be used for broadcast.\u001b[0m\u001b[1;33m\u001b[0m\u001b[1;33m\u001b[0m\u001b[0m\n\u001b[0;32m    831\u001b[0m         \u001b[1;32mif\u001b[0m \u001b[0mydata\u001b[0m\u001b[1;33m.\u001b[0m\u001b[0msize\u001b[0m \u001b[1;33m!=\u001b[0m \u001b[1;36m1\u001b[0m \u001b[1;32mand\u001b[0m \u001b[0mn\u001b[0m \u001b[1;33m>\u001b[0m \u001b[0mydata\u001b[0m\u001b[1;33m.\u001b[0m\u001b[0msize\u001b[0m\u001b[1;33m:\u001b[0m\u001b[1;33m\u001b[0m\u001b[1;33m\u001b[0m\u001b[0m\n\u001b[1;32m--> 832\u001b[1;33m             raise TypeError(f\"The number of func parameters={n} must not\"\n\u001b[0m\u001b[0;32m    833\u001b[0m                             f\" exceed the number of data points={ydata.size}\")\n\u001b[0;32m    834\u001b[0m         \u001b[0mres\u001b[0m \u001b[1;33m=\u001b[0m \u001b[0mleastsq\u001b[0m\u001b[1;33m(\u001b[0m\u001b[0mfunc\u001b[0m\u001b[1;33m,\u001b[0m \u001b[0mp0\u001b[0m\u001b[1;33m,\u001b[0m \u001b[0mDfun\u001b[0m\u001b[1;33m=\u001b[0m\u001b[0mjac\u001b[0m\u001b[1;33m,\u001b[0m \u001b[0mfull_output\u001b[0m\u001b[1;33m=\u001b[0m\u001b[1;36m1\u001b[0m\u001b[1;33m,\u001b[0m \u001b[1;33m**\u001b[0m\u001b[0mkwargs\u001b[0m\u001b[1;33m)\u001b[0m\u001b[1;33m\u001b[0m\u001b[1;33m\u001b[0m\u001b[0m\n",
            "\u001b[1;31mTypeError\u001b[0m: The number of func parameters=3 must not exceed the number of data points=2"
          ]
        }
      ],
      "source": [
        "params2, cov2 = curve_fit(my_func, x_data, y_data)\n",
        "# curve_fit()을 사용할 때 함수의 매개변수 개수(3개: a, b, c)가 데이터 포인트 개수(2개)보다 많아서 발생한 문제\n",
        "# curve_fit()을 사용하려면 적어도 3개의 데이터 포인트가 필요\n",
        "# 따라서 x_data의 개수를 3개 이상으로 늘려야함"
      ]
    },
    {
      "cell_type": "markdown",
      "metadata": {
        "id": "xWZ2ov28XQzc"
      },
      "source": [
        "**Over determined system**"
      ]
    },
    {
      "cell_type": "code",
      "execution_count": 49,
      "metadata": {
        "id": "v7tcIyObXNm6"
      },
      "outputs": [],
      "source": [
        "x_data = np.array([1, 2, 3, 4])\n",
        "y_data = f(x_data)\n",
        "# 마찬가지로 데이터 정의 및 함수는 그대로 위에 함수 씀\n",
        "# x_data에 대한 y 값 계산\n",
        "# y_data는 2, 11, 26, 47일 것"
      ]
    },
    {
      "cell_type": "code",
      "execution_count": null,
      "metadata": {
        "id": "1ufjNPIHZyHT"
      },
      "outputs": [],
      "source": [
        "params3, cov3 = curve_fit(my_func, x_data, y_data)\n",
        "# curve_fit을 이용한 비선형 회귀 (최적의 a, b, c 찾기)"
      ]
    },
    {
      "cell_type": "code",
      "execution_count": null,
      "metadata": {
        "id": "C_5JXI79Zz_V"
      },
      "outputs": [
        {
          "name": "stdout",
          "output_type": "stream",
          "text": [
            "[ 3.00000000e+00 -2.17137419e-12 -1.00000000e+00]\n"
          ]
        }
      ],
      "source": [
        "print(params3)\n",
        "# 최적의 파라미터 (a, b, c) 출력"
      ]
    },
    {
      "cell_type": "code",
      "execution_count": null,
      "metadata": {
        "id": "JYbyiXH8Z1Sd"
      },
      "outputs": [
        {
          "name": "stdout",
          "output_type": "stream",
          "text": [
            "[[inf inf inf]\n",
            " [inf inf inf]\n",
            " [inf inf inf]]\n"
          ]
        }
      ],
      "source": [
        "print(cov3)\n",
        "# 공분산 행렬 출력\n",
        "# y_data가 f(x) = 3x² - 1이라는 정답 함수에서 직접 생성됨\n",
        "# my_func(x, a, b, c) = ax² + bx + c 모델이 정확히 같은 형태를 가짐\n",
        "# 따라서 curve_fit()이 완벽한 해를 찾음 (params3 = [3. 0. -1.])\n",
        "# curve_fit()은 오차가 0이므로 공분산 행렬을 추정할 수 없음"
      ]
    },
    {
      "cell_type": "markdown",
      "metadata": {
        "id": "shZoqgNhbwNk"
      },
      "source": [
        "**Over determined system with error term**"
      ]
    },
    {
      "cell_type": "code",
      "execution_count": null,
      "metadata": {
        "id": "KxJZ5F6zbxwh"
      },
      "outputs": [],
      "source": [
        "y_data = y_data + 7*np.random.randn(*np.shape(y_data))\n",
        "# y_data에 랜덤 노이즈를 추가하여 실제 데이터에 변동성을 줌\n",
        "# y_data와 같은 크기의 랜덤한 값을 생성 (평균이 0이고 표준편차가 1인 정규 분포에서 나온 값들)\n",
        "# 값에 7을 곱함으로써 노이즈의 크기를 7배 크게 만듦\n",
        "# y_data에 무작위 오차를 추가하여 더 현실적인 데이터셋을 만듦듦"
      ]
    },
    {
      "cell_type": "code",
      "execution_count": null,
      "metadata": {
        "id": "A42ZMoB5b1Gh"
      },
      "outputs": [],
      "source": [
        "params4, cov4 = curve_fit(my_func, x_data, y_data)\n",
        "# curve_fit()을 사용하여 주어진 함수 my_func(x, a, b, c)에 대해 최적의 파라미터(a, b, c)를 찾아냄"
      ]
    },
    {
      "cell_type": "code",
      "execution_count": null,
      "metadata": {
        "id": "GxcawBr1b3Ir"
      },
      "outputs": [
        {
          "name": "stdout",
          "output_type": "stream",
          "text": [
            "[ 10.69970269 -40.18037382  39.27364074]\n"
          ]
        }
      ],
      "source": [
        "print(params4)\n",
        "# my_func(x) 함수에서 a, b, c에 대한 최적 추정값을 포함"
      ]
    },
    {
      "cell_type": "code",
      "execution_count": null,
      "metadata": {
        "id": "m3ZU4ZMtb4sZ"
      },
      "outputs": [
        {
          "name": "stdout",
          "output_type": "stream",
          "text": [
            "[[ 0.02498332 -0.12491659  0.12491659]\n",
            " [-0.12491659  0.64456959 -0.67454957]\n",
            " [ 0.12491659 -0.67454957  0.77448284]]\n"
          ]
        }
      ],
      "source": [
        "print(cov4)\n",
        "# 파라미터 추정값들의 공분산 행렬로, 추정값들의 불확실성을 나타냄\n",
        "# 값이 클수록 추정값에 불확실성이 많다는 의미"
      ]
    },
    {
      "cell_type": "code",
      "execution_count": null,
      "metadata": {
        "id": "ZXta5ECPb5o9"
      },
      "outputs": [
        {
          "data": {
            "image/png": "[encoded data removed]",
            "text/plain": [
              "<Figure size 640x480 with 1 Axes>"
            ]
          },
          "metadata": {},
          "output_type": "display_data"
        }
      ],
      "source": [
        "x = np.linspace(np.min(x_data), np.max(x_data), 100)\n",
        "# x_data의 최솟값과 최댓값 사이에서 균등하게 분포하는 100개의 점을 생성\n",
        "y = my_func(x, *params4)\n",
        "# 이렇게 생성된 x 값들에 대해, 최적화된 파라미터 params4를 사용하여 my_func를 통해 예측된 y 값들을 계산\n",
        "\n",
        "figure = plt.figure()\n",
        "axes = figure.add_subplot(111)\n",
        "axes.scatter(x_data, y_data, label='true data', color = \"red\")\n",
        "axes.plot(x, y, label='sol. with parameter estimates', color = \"black\")\n",
        "axes.legend()\n",
        "plt.show()\n",
        "# matplotlib를 사용하여 실제 데이터와 회귀 결과를 그래프로 시각화\n",
        "# 빨간색 점은 원본 데이터 (실제값)\n",
        "# 검은색 선은 선형 함수의 예측\n"
      ]
    }
  ],
  "metadata": {
    "colab": {
      "provenance": []
    },
    "kernelspec": {
      "display_name": "base",
      "language": "python",
      "name": "python3"
    },
    "language_info": {
      "codemirror_mode": {
        "name": "ipython",
        "version": 3
      },
      "file_extension": ".py",
      "mimetype": "text/x-python",
      "name": "python",
      "nbconvert_exporter": "python",
      "pygments_lexer": "ipython3",
      "version": "3.9.13"
    }
  },
  "nbformat": 4,
  "nbformat_minor": 0
}
