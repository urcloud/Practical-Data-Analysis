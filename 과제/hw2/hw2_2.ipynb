{
 "cells": [
  {
   "cell_type": "code",
   "execution_count": 2,
   "id": "4d0ee118",
   "metadata": {},
   "outputs": [],
   "source": [
    "# RNN"
   ]
  },
  {
   "cell_type": "code",
   "execution_count": null,
   "id": "35ec587e",
   "metadata": {},
   "outputs": [
    {
     "name": "stderr",
     "output_type": "stream",
     "text": [
      "C:\\Users\\epoin\\AppData\\Local\\Temp\\ipykernel_16980\\920942762.py:30: UserWarning: Creating a tensor from a list of numpy.ndarrays is extremely slow. Please consider converting the list to a single numpy.ndarray with numpy.array() before converting to a tensor. (Triggered internally at C:\\actions-runner\\_work\\pytorch\\pytorch\\pytorch\\torch\\csrc\\utils\\tensor_new.cpp:257.)\n",
      "  X = torch.tensor(x_seq_list, dtype=torch.float32)  # (batch, window, 1)\n"
     ]
    },
    {
     "ename": "KeyboardInterrupt",
     "evalue": "",
     "output_type": "error",
     "traceback": [
      "\u001b[1;31m---------------------------------------------------------------------------\u001b[0m",
      "\u001b[1;31mKeyboardInterrupt\u001b[0m                         Traceback (most recent call last)",
      "\u001b[1;32m~\\AppData\\Local\\Temp\\ipykernel_16980\\920942762.py\u001b[0m in \u001b[0;36m<module>\u001b[1;34m\u001b[0m\n\u001b[0;32m     52\u001b[0m         \u001b[1;32mfor\u001b[0m \u001b[0mt\u001b[0m \u001b[1;32min\u001b[0m \u001b[0mrange\u001b[0m\u001b[1;33m(\u001b[0m\u001b[0mwindow_size\u001b[0m\u001b[1;33m)\u001b[0m\u001b[1;33m:\u001b[0m\u001b[1;33m\u001b[0m\u001b[1;33m\u001b[0m\u001b[0m\n\u001b[0;32m     53\u001b[0m             \u001b[0mx_t\u001b[0m \u001b[1;33m=\u001b[0m \u001b[0mx_seq\u001b[0m\u001b[1;33m[\u001b[0m\u001b[0mt\u001b[0m\u001b[1;33m]\u001b[0m\u001b[1;33m\u001b[0m\u001b[1;33m\u001b[0m\u001b[0m\n\u001b[1;32m---> 54\u001b[1;33m             \u001b[0mh\u001b[0m \u001b[1;33m=\u001b[0m \u001b[0mtorch\u001b[0m\u001b[1;33m.\u001b[0m\u001b[0mtanh\u001b[0m\u001b[1;33m(\u001b[0m\u001b[0mx_t\u001b[0m \u001b[1;33m@\u001b[0m \u001b[0mW_xh\u001b[0m \u001b[1;33m+\u001b[0m \u001b[0mh\u001b[0m \u001b[1;33m@\u001b[0m \u001b[0mW_hh\u001b[0m \u001b[1;33m+\u001b[0m \u001b[0mb_h\u001b[0m\u001b[1;33m)\u001b[0m\u001b[1;33m\u001b[0m\u001b[1;33m\u001b[0m\u001b[0m\n\u001b[0m\u001b[0;32m     55\u001b[0m \u001b[1;33m\u001b[0m\u001b[0m\n\u001b[0;32m     56\u001b[0m         \u001b[0my_pred\u001b[0m \u001b[1;33m=\u001b[0m \u001b[0mh\u001b[0m \u001b[1;33m@\u001b[0m \u001b[0mW_hy\u001b[0m \u001b[1;33m+\u001b[0m \u001b[0mb_y\u001b[0m\u001b[1;33m\u001b[0m\u001b[1;33m\u001b[0m\u001b[0m\n",
      "\u001b[1;31mKeyboardInterrupt\u001b[0m: "
     ]
    }
   ],
   "source": [
    "import pandas as pd\n",
    "import numpy as np\n",
    "import torch\n",
    "\n",
    "# 데이터 불러오기\n",
    "df_train = pd.read_csv(\"hw2_dataset2_train.csv\")\n",
    "df_test = pd.read_csv(\"hw2_dataset2_test.csv\")\n",
    "x_cols = df_train.columns[:151]\n",
    "y_cols = df_train.columns[151:]\n",
    "\n",
    "X_train = df_train[x_cols].values  # (800, 151)\n",
    "Y_train = df_train[y_cols].values  # (800, 150)\n",
    "\n",
    "# Hyperparameters\n",
    "input_size = 1\n",
    "hidden_size = 32\n",
    "output_size = 1\n",
    "lr = 0.001\n",
    "epochs = 500\n",
    "window_size = 10  # 슬라이딩 윈도우 크기\n",
    "\n",
    "# 슬라이딩 윈도우 적용 (X → y=X_{t+1})\n",
    "x_seq_list, y_seq_list = [], []\n",
    "for seq in X_train:\n",
    "    for i in range(len(seq) - window_size):\n",
    "        x_seq = seq[i:i + window_size].reshape(-1, 1)\n",
    "        y_val = seq[i + window_size]  # 다음 시점 값\n",
    "        x_seq_list.append(x_seq)\n",
    "        y_seq_list.append([y_val])\n",
    "\n",
    "X = torch.tensor(x_seq_list, dtype=torch.float32)  # (batch, window, 1)\n",
    "Y = torch.tensor(y_seq_list, dtype=torch.float32)  # (batch, 1)\n",
    "\n",
    "# 파라미터 초기화\n",
    "W_xh = torch.nn.Parameter(torch.randn(input_size, hidden_size) * 0.01)\n",
    "W_hh = torch.nn.Parameter(torch.randn(hidden_size, hidden_size) * 0.01)\n",
    "b_h = torch.nn.Parameter(torch.zeros(hidden_size))\n",
    "W_hy = torch.nn.Parameter(torch.randn(hidden_size, output_size) * 0.01)\n",
    "b_y = torch.nn.Parameter(torch.zeros(output_size))\n",
    "\n",
    "params = [W_xh, W_hh, b_h, W_hy, b_y]\n",
    "optimizer = torch.optim.Adam(params, lr=lr)\n",
    "loss_fn = torch.nn.MSELoss()\n",
    "\n",
    "# 학습\n",
    "for epoch in range(epochs):\n",
    "    total_loss = 0\n",
    "    for i in range(X.shape[0]):\n",
    "        x_seq = X[i]  # (window_size, 1)\n",
    "        y_true = Y[i]  # (1,)\n",
    "        h = torch.zeros(hidden_size)\n",
    "\n",
    "        for t in range(window_size):\n",
    "            x_t = x_seq[t]\n",
    "            h = torch.tanh(x_t @ W_xh + h @ W_hh + b_h)\n",
    "\n",
    "        y_pred = h @ W_hy + b_y\n",
    "        loss = loss_fn(y_pred, y_true)\n",
    "\n",
    "        optimizer.zero_grad()\n",
    "        loss.backward()\n",
    "        optimizer.step()\n",
    "\n",
    "        total_loss += loss.item()\n",
    "\n",
    "    if epoch % 50 == 0:\n",
    "        print(f\"Epoch {epoch}, Loss: {total_loss / len(X):.6f}\")\n"
   ]
  }
 ],
 "metadata": {
  "kernelspec": {
   "display_name": "base",
   "language": "python",
   "name": "python3"
  },
  "language_info": {
   "codemirror_mode": {
    "name": "ipython",
    "version": 3
   },
   "file_extension": ".py",
   "mimetype": "text/x-python",
   "name": "python",
   "nbconvert_exporter": "python",
   "pygments_lexer": "ipython3",
   "version": "3.9.13"
  }
 },
 "nbformat": 4,
 "nbformat_minor": 5
}
