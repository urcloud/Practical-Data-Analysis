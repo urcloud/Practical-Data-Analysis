{
  "nbformat": 4,
  "nbformat_minor": 0,
  "metadata": {
    "colab": {
      "provenance": []
    },
    "kernelspec": {
      "name": "python3",
      "display_name": "Python 3"
    },
    "language_info": {
      "name": "python"
    }
  },
  "cells": [
    {
      "cell_type": "code",
      "execution_count": null,
      "metadata": {
        "id": "DR38dAmCFF-t"
      },
      "outputs": [],
      "source": [
        "import numpy as np\n",
        "import matplotlib.pyplot as plt\n",
        "from tqdm.notebook import tqdm"
      ]
    },
    {
      "cell_type": "markdown",
      "source": [
        "This code does not include train/test separation (D.I.Y)"
      ],
      "metadata": {
        "id": "mKZ-Vp05QpM0"
      }
    },
    {
      "cell_type": "code",
      "source": [
        "time = np.linspace(1,24,24)\n",
        "temperature = np.array([75, 77, 76, 73, 69, 68, 63, 59,\n",
        "                        57, 55, 54, 52, 50, 50, 49, 49,\n",
        "                        49, 50, 54, 56, 59, 63, 67, 72])"
      ],
      "metadata": {
        "id": "yQRq9A-kFMEM"
      },
      "execution_count": null,
      "outputs": []
    },
    {
      "cell_type": "code",
      "source": [
        "fig = plt.figure(figsize=(5,5))\n",
        "ax = fig.add_subplot(111)\n",
        "ax.scatter(time, temperature, color = 'red')\n",
        "plt.show()"
      ],
      "metadata": {
        "id": "72lbASIsFNZO"
      },
      "execution_count": null,
      "outputs": []
    },
    {
      "cell_type": "markdown",
      "source": [
        "curve fit with $f(x)=\\sum_{k=0}^{pol_deg}a_kx^k$"
      ],
      "metadata": {
        "id": "avyMUc_rR0Lu"
      }
    },
    {
      "cell_type": "code",
      "source": [
        "pol_deg = 3\n",
        "params = np.zeros(pol_deg+1)"
      ],
      "metadata": {
        "id": "MTxGfq8YFOsd"
      },
      "execution_count": null,
      "outputs": []
    },
    {
      "cell_type": "code",
      "source": [
        "def myfunc(t, p):\n",
        "    t = [t**k for k in reversed(range(pol_deg+1))]\n",
        "    t = np.stack(t, axis=1)\n",
        "    out = np.dot(t, p)\n",
        "    return out"
      ],
      "metadata": {
        "id": "WqSND4fvFThQ"
      },
      "execution_count": null,
      "outputs": []
    },
    {
      "cell_type": "code",
      "source": [
        "myfunc(time, params)"
      ],
      "metadata": {
        "id": "X7-e1Js3IfpG"
      },
      "execution_count": null,
      "outputs": []
    },
    {
      "cell_type": "code",
      "source": [
        "def E2(p):\n",
        "    return np.mean((myfunc(time,p) - temperature)**2)"
      ],
      "metadata": {
        "id": "4N00gDBgFkhK"
      },
      "execution_count": null,
      "outputs": []
    },
    {
      "cell_type": "code",
      "source": [
        "E2(params)"
      ],
      "metadata": {
        "id": "z82Sfjg9FmZG"
      },
      "execution_count": null,
      "outputs": []
    },
    {
      "cell_type": "code",
      "source": [
        "def grad_E2(p):\n",
        "    grad_E = np.zeros(pol_deg+1)\n",
        "    for k in range(pol_deg+1):\n",
        "        grad_E[k] = 2*np.mean((myfunc(time, p) - temperature)*time**k)\n",
        "    return np.array(grad_E)"
      ],
      "metadata": {
        "id": "9TxHaYDxIyDT"
      },
      "execution_count": null,
      "outputs": []
    },
    {
      "cell_type": "code",
      "source": [
        "grad_E2(params) ### too large values.... very small eta is needed...."
      ],
      "metadata": {
        "id": "MNg0G4tBJQ8b"
      },
      "execution_count": null,
      "outputs": []
    },
    {
      "cell_type": "code",
      "source": [
        "eta = 1e-11\n",
        "iter = 10000000"
      ],
      "metadata": {
        "id": "aIRIz2sYJThs"
      },
      "execution_count": null,
      "outputs": []
    },
    {
      "cell_type": "code",
      "source": [
        "#params = np.array([0.18, -5.26, 88.29])"
      ],
      "metadata": {
        "id": "5tlEUXejJXHJ"
      },
      "execution_count": null,
      "outputs": []
    },
    {
      "cell_type": "code",
      "source": [
        "ridge = True"
      ],
      "metadata": {
        "id": "o9-yq8RUP_iq"
      },
      "execution_count": null,
      "outputs": []
    },
    {
      "cell_type": "code",
      "source": [
        "for i in tqdm(range(iter)):\n",
        "  grad = grad_E2(params)\n",
        "\n",
        "  if ridge: #ridge regression\n",
        "    params -= eta*(2*params+grad)\n",
        "  else: # lss\n",
        "    params -= eta*grad\n",
        "  if i% 100000 == 0:\n",
        "    print(E2(params))\n",
        "    print(params)\n"
      ],
      "metadata": {
        "id": "RiFpJbEOJXyO"
      },
      "execution_count": null,
      "outputs": []
    },
    {
      "cell_type": "code",
      "source": [
        "fig = plt.figure(figsize=(5,5))\n",
        "ax = fig.add_subplot(111)\n",
        "ax.scatter(time, temperature, color = 'red', label='observed')\n",
        "ax.plot(time, myfunc(time, params), color = 'blue', label='fitted')\n",
        "plt.show()"
      ],
      "metadata": {
        "id": "AKqj1ZAaJZ34"
      },
      "execution_count": null,
      "outputs": []
    },
    {
      "cell_type": "code",
      "source": [],
      "metadata": {
        "id": "zfcG3A0FQ5vJ"
      },
      "execution_count": null,
      "outputs": []
    }
  ]
}