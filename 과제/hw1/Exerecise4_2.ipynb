{
  "nbformat": 4,
  "nbformat_minor": 0,
  "metadata": {
    "colab": {
      "provenance": []
    },
    "kernelspec": {
      "name": "python3",
      "display_name": "Python 3"
    },
    "language_info": {
      "name": "python"
    }
  },
  "cells": [
    {
      "cell_type": "code",
      "execution_count": null,
      "metadata": {
        "id": "HlDjBCyqAZMY"
      },
      "outputs": [],
      "source": [
        "import numpy as np\n",
        "import matplotlib.pyplot as plt\n",
        "from tqdm.notebook import tqdm"
      ]
    },
    {
      "cell_type": "markdown",
      "source": [
        "This provides a guideline for gradient descent-based curve fitting algorithms. The details, such as how to select the initial guess, choose the step size, or determine the update rule (e.g., stochastic, Hessian-based, etc.), are up to you."
      ],
      "metadata": {
        "id": "I9cBnxzqTkN6"
      }
    },
    {
      "cell_type": "code",
      "source": [
        "time = np.linspace(1,24,24)\n",
        "temperature = np.array([75, 77, 76, 73, 69, 68, 63, 59,\n",
        "                        57, 55, 54, 52, 50, 50, 49, 49,\n",
        "                        49, 50, 54, 56, 59, 63, 67, 72])"
      ],
      "metadata": {
        "id": "a1tcgs8QAfuh"
      },
      "execution_count": null,
      "outputs": []
    },
    {
      "cell_type": "code",
      "source": [
        "fig = plt.figure(figsize=(5,5))\n",
        "ax = fig.add_subplot(111)\n",
        "ax.scatter(time, temperature, color = 'red')\n",
        "plt.show()"
      ],
      "metadata": {
        "id": "NB5Nhd0KAu0p"
      },
      "execution_count": null,
      "outputs": []
    },
    {
      "cell_type": "markdown",
      "source": [
        "Exercise 4-2 with $f(x)=Ax^2+Bx+c$"
      ],
      "metadata": {
        "id": "AxFgDn4EEpcy"
      }
    },
    {
      "cell_type": "code",
      "source": [
        "def myfunc(t, a, b, c):\n",
        "    return a*t**2 + b*t + c"
      ],
      "metadata": {
        "id": "wNt8Mo1JAws1"
      },
      "execution_count": null,
      "outputs": []
    },
    {
      "cell_type": "code",
      "source": [
        "a0, b0, c0 = 1, 1, 1"
      ],
      "metadata": {
        "id": "wCSOtTNzBbFT"
      },
      "execution_count": null,
      "outputs": []
    },
    {
      "cell_type": "code",
      "source": [
        "def E2(a, b, c):\n",
        "    return np.sum((myfunc(time, a, b, c) - temperature)**2)"
      ],
      "metadata": {
        "id": "UqNkEHRpBiEB"
      },
      "execution_count": null,
      "outputs": []
    },
    {
      "cell_type": "code",
      "source": [
        "def grad_E2(a,b,c):\n",
        "    grad_a = 2*np.sum((myfunc(time, a, b, c) - temperature)*time**2)\n",
        "    grad_b = 2*np.sum((myfunc(time, a, b, c) - temperature)*time)\n",
        "    grad_c = 2*np.sum((myfunc(time, a, b, c) - temperature))\n",
        "    return grad_a, grad_b, grad_c"
      ],
      "metadata": {
        "id": "-ttdTM9PBoUy"
      },
      "execution_count": null,
      "outputs": []
    },
    {
      "cell_type": "code",
      "source": [
        "E2(a0, b0, c0) ## answer for the first question in exercise 4-2"
      ],
      "metadata": {
        "id": "WA-Gp_VsBkf0"
      },
      "execution_count": null,
      "outputs": []
    },
    {
      "cell_type": "code",
      "source": [
        "grad_E2(a0, b0, c0) #### too large values.... very small eta is needed...."
      ],
      "metadata": {
        "id": "AytCjy3fLc-O"
      },
      "execution_count": null,
      "outputs": []
    },
    {
      "cell_type": "code",
      "source": [
        "a0"
      ],
      "metadata": {
        "id": "YHiDpJUZDYlE"
      },
      "execution_count": null,
      "outputs": []
    },
    {
      "cell_type": "code",
      "source": [
        "eta = 1e-7\n",
        "iter = 10000000"
      ],
      "metadata": {
        "id": "P_ohYn_gCLa3"
      },
      "execution_count": null,
      "outputs": []
    },
    {
      "cell_type": "code",
      "source": [
        "for i in tqdm(range(iter)):\n",
        "  grad_a, grad_b, grad_c = grad_E2(a0, b0, c0)\n",
        "  a0 = a0 - eta*grad_a\n",
        "  b0 = b0 - eta*grad_b\n",
        "  c0 = c0 - eta*grad_c\n",
        "  if i% 10000 == 0:\n",
        "    print(E2(a0, b0, c0))\n"
      ],
      "metadata": {
        "id": "NE_y4OA1CVJi"
      },
      "execution_count": null,
      "outputs": []
    },
    {
      "cell_type": "code",
      "source": [
        "a0, b0, c0"
      ],
      "metadata": {
        "id": "W180uO-tCmS2"
      },
      "execution_count": null,
      "outputs": []
    },
    {
      "cell_type": "code",
      "source": [
        "a_f = 0.18\n",
        "b_f = -5.26\n",
        "c_f = 88.29"
      ],
      "metadata": {
        "id": "OPB-S2E5IDUU"
      },
      "execution_count": null,
      "outputs": []
    },
    {
      "cell_type": "code",
      "source": [
        "fig = plt.figure(figsize=(5,5))\n",
        "ax = fig.add_subplot(111)\n",
        "ax.scatter(time, temperature, color = 'red', label='observed')\n",
        "ax.plot(time, myfunc(time, a_f, b_f, c_f), color = 'blue', label='fitted')\n",
        "plt.show()"
      ],
      "metadata": {
        "id": "zxghiUpNDEbj"
      },
      "execution_count": null,
      "outputs": []
    },
    {
      "cell_type": "markdown",
      "source": [
        "Exercise 4-2 with $f(x)=Acos(Bx+C)$"
      ],
      "metadata": {
        "id": "NgtHBb7YLnge"
      }
    },
    {
      "cell_type": "code",
      "source": [
        "a0, b0, c0 = 1, 1, 1"
      ],
      "metadata": {
        "id": "TaY5F18BNoiA"
      },
      "execution_count": null,
      "outputs": []
    },
    {
      "cell_type": "code",
      "source": [
        "def E2sq(a, b, c):\n",
        "    return np.mean((a * np.cos(b * time + c) - temperature) ** 2)"
      ],
      "metadata": {
        "id": "xn4eG5UkH5-4"
      },
      "execution_count": null,
      "outputs": []
    },
    {
      "cell_type": "code",
      "source": [
        "def grad_E2(a, b, c):\n",
        "    grad_E2 = np.zeros(3)\n",
        "\n",
        "    common_term = a*np.cos(b*time+c)-temperature\n",
        "    grad_E2[0] = 2*np.mean(common_term*(np.cos(b*time+c))) #partial_a E2\n",
        "    grad_E2[1] = 2*np.mean(common_term*(a*(-1)*np.sin(b*time+c)*time)) #partial_b E2\n",
        "    grad_E2[2] = 2*np.mean(common_term*(a*(-1)*np.sin(b*time+c))) #partial_c E2\n",
        "    return grad_E2"
      ],
      "metadata": {
        "id": "uDeFQTw6NHDD"
      },
      "execution_count": null,
      "outputs": []
    },
    {
      "cell_type": "code",
      "source": [
        "eta = 1e-8\n",
        "iter = 10000000"
      ],
      "metadata": {
        "id": "Dq-SFZzbPBjC"
      },
      "execution_count": null,
      "outputs": []
    },
    {
      "cell_type": "code",
      "source": [
        "for i in tqdm(range(iter)):\n",
        "  grad = grad_E2(a0, b0, c0)\n",
        "  a0 = a0 - eta*grad[0]\n",
        "  b0 = b0 - eta*grad[1]\n",
        "  c0 = c0 - eta*grad[2]\n",
        "  if i% 100000 == 0:\n",
        "    print(E2(a0, b0, c0))\n"
      ],
      "metadata": {
        "id": "7RWCyxv4OpR-"
      },
      "execution_count": null,
      "outputs": []
    },
    {
      "cell_type": "code",
      "source": [
        "grad_E2(a0, b0, c0)"
      ],
      "metadata": {
        "id": "Rw8Q5gHaOrmQ"
      },
      "execution_count": null,
      "outputs": []
    },
    {
      "cell_type": "code",
      "source": [],
      "metadata": {
        "id": "qpWtGGPqO8nO"
      },
      "execution_count": null,
      "outputs": []
    }
  ]
}