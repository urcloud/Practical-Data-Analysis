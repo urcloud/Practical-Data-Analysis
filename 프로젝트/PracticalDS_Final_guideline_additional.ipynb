{
  "cells": [
    {
      "cell_type": "code",
      "execution_count": null,
      "metadata": {
        "id": "IOtp5UZX2ORA"
      },
      "outputs": [],
      "source": [
        "import numpy as np\n",
        "import pandas as pd\n",
        "\n",
        "import matplotlib.pyplot as plt"
      ]
    },
    {
      "cell_type": "markdown",
      "metadata": {
        "id": "Kr_QzAi58mWl"
      },
      "source": [
        "Guideline"
      ]
    },
    {
      "cell_type": "code",
      "execution_count": null,
      "metadata": {
        "id": "ZQdSN-DH63aL"
      },
      "outputs": [],
      "source": [
        "df_train = pd.read_csv(\"practicalDS_final_train.csv\")\n",
        "df_test = pd.read_csv(\"practicalDS_final_test.csv\")"
      ]
    },
    {
      "cell_type": "code",
      "execution_count": null,
      "metadata": {
        "id": "bdZdh_knKlOA"
      },
      "outputs": [],
      "source": [
        "df_train.head(10)"
      ]
    },
    {
      "cell_type": "code",
      "source": [
        "df_train.iloc[0] ## choose 0th sample"
      ],
      "metadata": {
        "id": "3MuWfaTK9HON"
      },
      "execution_count": null,
      "outputs": []
    },
    {
      "cell_type": "code",
      "source": [
        "t = df_train.columns[:-3]\n",
        "y = df_train.iloc[0][:-3].values"
      ],
      "metadata": {
        "id": "UUUHSFJl9KdG"
      },
      "execution_count": null,
      "outputs": []
    },
    {
      "cell_type": "code",
      "source": [
        "plt.scatter(t,y)\n",
        "plt.plot(t,y, color = 'black')\n",
        "plt.xticks([t[0], t[int(len(t)/2)], t[-1]])\n",
        "plt.show()"
      ],
      "metadata": {
        "id": "x9XOFkG49mVP"
      },
      "execution_count": null,
      "outputs": []
    },
    {
      "cell_type": "code",
      "source": [
        "for k in range(4):\n",
        "  plt.plot(t,df_train.iloc[k][:-3].values, label = 'y1={} y2={} y3={}'.format(*np.round(df_train.iloc[k][-3:].values,2)))\n",
        "plt.xticks([t[0], t[int(len(t)/2)], t[-1]])\n",
        "plt.legend()\n",
        "plt.show()"
      ],
      "metadata": {
        "id": "fOEqKN0e_9DZ"
      },
      "execution_count": null,
      "outputs": []
    },
    {
      "cell_type": "code",
      "execution_count": null,
      "metadata": {
        "id": "j0d3TRR4KpPq"
      },
      "outputs": [],
      "source": [
        "df_test"
      ]
    },
    {
      "cell_type": "code",
      "execution_count": null,
      "metadata": {
        "id": "bB0eg-t2Kekk"
      },
      "outputs": [],
      "source": [
        "df_test[list(df_test.columns[101:])] # y1, y2, y3 are None --> you need to fill this using your training model!\n",
        "print(df_test[list(df_test.columns[101:])])\n",
        "\n",
        "#After filling your answer, plz upload your '.csv' file like this:\n",
        "#name = 'your name'\n",
        "#df_test.to_csv(\"answer_{}.csv\".format(name), index=False)"
      ]
    },
    {
      "cell_type": "markdown",
      "metadata": {
        "id": "xBMBqzjN8rE3"
      },
      "source": [
        "# Please submit your code ('.py' or '.ipynb') with '.csv' file"
      ]
    }
  ],
  "metadata": {
    "colab": {
      "provenance": []
    },
    "kernelspec": {
      "display_name": "torchgpu",
      "language": "python",
      "name": "python3"
    },
    "language_info": {
      "codemirror_mode": {
        "name": "ipython",
        "version": 3
      },
      "file_extension": ".py",
      "mimetype": "text/x-python",
      "name": "python",
      "nbconvert_exporter": "python",
      "pygments_lexer": "ipython3",
      "version": "3.10.16"
    }
  },
  "nbformat": 4,
  "nbformat_minor": 0
}