{
  "cells": [
    {
      "cell_type": "code",
      "execution_count": null,
      "metadata": {
        "id": "BbfHn_eiWuc9"
      },
      "outputs": [],
      "source": [
        "import numpy as np \n",
        "# We use only this package!"
      ]
    },
    {
      "cell_type": "markdown",
      "metadata": {
        "id": "7lOdRIQU0_wE"
      },
      "source": [
        "Dataset $(x_k,y_k)$ generation"
      ]
    },
    {
      "cell_type": "code",
      "execution_count": null,
      "metadata": {
        "id": "s4TMBIjixz6G"
      },
      "outputs": [],
      "source": [
        "np.random.seed(10)\n",
        "# 무작위 결과를 특정 값으로 고정, 항상 같은 난수들이 생성됨\n",
        "# 난수를 예측 가능하도록 만들어주는 역할\n",
        "\n",
        "x = np.random.randn(10)\n",
        "# 평균 0, 표준편차 1을 가지는 정규분포에서 난수 10개를 생성\n",
        "\n",
        "y = 3*x + 2 + np.random.randn(10)\n",
        "# y = 3*x + 2 + noise의 형태]\n",
        "# x 값에 선형 변환을 적용한 후 랜덤 노이즈를 추가한 값"
      ]
    },
    {
      "cell_type": "code",
      "execution_count": null,
      "metadata": {
        "id": "a-LKPQO8x3Pd"
      },
      "outputs": [
        {
          "name": "stdout",
          "output_type": "stream",
          "text": [
            "[ 1.3315865   0.71527897 -1.54540029 -0.00838385  0.62133597 -0.72008556\n",
            "  0.26551159  0.10854853  0.00429143 -0.17460021]\n",
            "[ 6.4277857   5.3488743  -3.60126655  3.00312253  4.09263805  0.28488093\n",
            "  1.65993255  2.46078246  3.49741129  0.39639448]\n"
          ]
        }
      ],
      "source": [
        "print(x)\n",
        "print(y)\n",
        "# 생성된 x와 y 값을 출력"
      ]
    },
    {
      "cell_type": "markdown",
      "metadata": {
        "id": "FzpZwULZyyaR"
      },
      "source": [
        "Curve fit with linear function $f(x;\\beta)=\\beta_1x+\\beta_2$\n",
        "\n",
        "Define $E_2 = \\sum_{k=1}^{10}(y_k-f(x_k;\\beta))^2$\n",
        "\n",
        "Then, we derive the following system of linear eqns $A\\beta=y$ from $\\partial_{\\beta_i}E_2=0$:\n",
        "\n",
        "$\\begin{equation}\n",
        "\\left(\\begin{matrix}\n",
        "\\sum_{k=1}^{n}x_{k}^{2} & \\sum_{k=1}^{n}x_{k} \\\\\n",
        "\\sum_{k=1}^{n}x_{k} & n \\\\\n",
        "\\end{matrix}\\right)\\left(\\begin{matrix}\n",
        "\\beta_{1} \\\\\n",
        "\\beta_{2} \\\\\n",
        "\\end{matrix}\\right)=\\left(\\begin{matrix}\n",
        "\\sum_{k=1}^{n}x_{k}y_{k} \\\\\n",
        "\\sum_{k=1}^{n}y_{k} \\\\\n",
        "\\end{matrix}\\right)\n",
        "\\end{equation}$"
      ]
    },
    {
      "cell_type": "markdown",
      "metadata": {
        "id": "_J2nt6mAHk0A"
      },
      "source": [
        "Initialize\n",
        "\n",
        "$\\begin{equation}\n",
        "A = \\left(\\begin{matrix}\n",
        "0 & 0 \\\\\n",
        "0 & 0 \\\\\n",
        "\\end{matrix}\\right)\n",
        "\\end{equation}$"
      ]
    },
    {
      "cell_type": "code",
      "execution_count": null,
      "metadata": {
        "id": "oFHWcTMXx6Uv"
      },
      "outputs": [
        {
          "name": "stdout",
          "output_type": "stream",
          "text": [
            "[[0. 0.]\n",
            " [0. 0.]]\n"
          ]
        }
      ],
      "source": [
        "A= np.zeros((2,2))\n",
        "print(A)\n",
        "# A는 2×2 크기의 행렬이며, 모든 요소가 0"
      ]
    },
    {
      "cell_type": "markdown",
      "metadata": {
        "id": "lHFgky8gHwqv"
      },
      "source": [
        "Fill the diagonal components in $A$ with $\\sum_{k=1}^{n}x_{k}^{2}$ and $n$\n",
        "\n",
        "$\\begin{equation}\n",
        "A = \\left(\\begin{matrix}\n",
        "\\sum_{k=1}^{n}x_{k}^{2} & 0 \\\\\n",
        "0 & n \\\\\n",
        "\\end{matrix}\\right)\n",
        "\\end{equation}$"
      ]
    },
    {
      "cell_type": "code",
      "execution_count": null,
      "metadata": {
        "id": "f4a565o6FsTg"
      },
      "outputs": [
        {
          "name": "stdout",
          "output_type": "stream",
          "text": [
            "[[ 5.69044342  0.        ]\n",
            " [ 0.         10.        ]]\n"
          ]
        }
      ],
      "source": [
        "A[0,0] = np.sum(x**2)\n",
        "# A[0,0]에 x 값들의 제곱합을 저장\n",
        "A[1,1] = len(x)\n",
        "# A[1,1]에 x의 길이(10)를 저장\n",
        "print(A)"
      ]
    },
    {
      "cell_type": "markdown",
      "metadata": {
        "id": "ZU8LM6R7IRAe"
      },
      "source": [
        "Fill the offdiagonal component in $A$ with $\\sum_{k=1}^{n}x_{k}$\n",
        "\n",
        "$\\begin{equation}\n",
        "A = \\left(\\begin{matrix}\n",
        "\\sum_{k=1}^{n}x_{k}^{2} & \\sum_{k=1}^{n}x_{k} \\\\\n",
        "\\sum_{k=1}^{n}x_{k} & 0 \\\\\n",
        "\\end{matrix}\\right)\n",
        "\\end{equation}$\n",
        "\n",
        "cf)(mathematics) 'offdiagonal' is not an element on the diagonal of a square matrix"
      ]
    },
    {
      "cell_type": "code",
      "execution_count": null,
      "metadata": {
        "id": "cj5u5VeQF4Sh"
      },
      "outputs": [],
      "source": [
        "A[[0,1],[1,0]] = np.sum(x)\n",
        "# A[0,1]과 A[1,0] 두 위치에 x 값들의 합을 저장\n",
        "# [[sum(x^2)  sum(x) ]\n",
        "#  [sum(x)    len(x)]]  형태가 됨, 선형 회귀 정규방정식에서 사용되는 행렬 형태"
      ]
    },
    {
      "cell_type": "code",
      "execution_count": 7,
      "metadata": {
        "id": "Wbb3HUPTF-tR"
      },
      "outputs": [
        {
          "name": "stdout",
          "output_type": "stream",
          "text": [
            "[[ 5.69044342  0.59808308]\n",
            " [ 0.59808308 10.        ]]\n"
          ]
        }
      ],
      "source": [
        "print(A)"
      ]
    },
    {
      "cell_type": "markdown",
      "metadata": {
        "id": "VX7jHq10Iw0n"
      },
      "source": [
        "Define\n",
        "\n",
        "$\\begin{equation}\n",
        "y=\\left(\\begin{matrix}\n",
        "\\sum_{k=1}^{n}x_{k}y_{k} \\\\\n",
        "\\sum_{k=1}^{n}y_{k} \\\\\n",
        "\\end{matrix}\\right)\n",
        "\\end{equation}$"
      ]
    },
    {
      "cell_type": "code",
      "execution_count": null,
      "metadata": {
        "id": "hdbdCbKRG4aX"
      },
      "outputs": [],
      "source": [
        "b = np.array([[np.inner(x,y)],[np.sum(y)]])\n",
        "# 2×1 크기의 벡터\n",
        "# b[0,0] = x와 y의 내적값\n",
        "# b[1,0] = y 값들의 합\n",
        "\n",
        "# Warning: x*y is different from np.inner(x,y), why?\n",
        "# x * y는 요소별 곱셈, np.inner(x, y)는 벡터 내적"
      ]
    },
    {
      "cell_type": "code",
      "execution_count": 9,
      "metadata": {
        "id": "LYvoTaf-HEUm"
      },
      "outputs": [
        {
          "data": {
            "text/plain": [
              "array([[20.91671923],\n",
              "       [23.57055574]])"
            ]
          },
          "execution_count": 9,
          "metadata": {},
          "output_type": "execute_result"
        }
      ],
      "source": [
        "b"
      ]
    },
    {
      "cell_type": "markdown",
      "metadata": {
        "id": "kwJuCMscGeMJ"
      },
      "source": [
        "$\\beta=A^{-1}b$"
      ]
    },
    {
      "cell_type": "code",
      "execution_count": null,
      "metadata": {
        "id": "X2vzQIfWGB9_"
      },
      "outputs": [],
      "source": [
        "A_inv = np.linalg.inv(A)\n",
        "# A의 역행렬\n",
        "# 만약 A가 역행렬이 존재하지 않는 경우 오류가 발생"
      ]
    },
    {
      "cell_type": "code",
      "execution_count": null,
      "metadata": {
        "id": "QG7lliiHGLnC"
      },
      "outputs": [
        {
          "name": "stdout",
          "output_type": "stream",
          "text": [
            "[[3.44971387]\n",
            " [2.15073402]]\n"
          ]
        }
      ],
      "source": [
        "x = np.matmul(A_inv,b)\n",
        "# Aθ=b를 풀기 위해 𝜃=𝐴^(−1) * 𝑏를 계산\n",
        "# θ = [a, b] 형태로 y ≈ ax + b에 해당하는 선형 회귀 계수를 찾음\n",
        "\n",
        "print(x)\n",
        "\n",
        "# why does A_inv*b not use in the calcuation?\n",
        "# A_inv * b는 일반적인 행렬 곱셈이 아닌 요소별 곱을 수행, 따라서 이 경우 유효하지 않은 결과를 반환함"
      ]
    },
    {
      "cell_type": "code",
      "execution_count": 12,
      "metadata": {
        "id": "bhMX-bMLHNFd"
      },
      "outputs": [
        {
          "data": {
            "text/plain": [
              "array([[ 3.69901476, -0.22123181],\n",
              "       [-0.24930089,  2.37196584]])"
            ]
          },
          "execution_count": 12,
          "metadata": {},
          "output_type": "execute_result"
        }
      ],
      "source": [
        "A_inv*b"
      ]
    },
    {
      "cell_type": "code",
      "execution_count": null,
      "metadata": {
        "id": "nyRNOQuSJ6R3"
      },
      "outputs": [
        {
          "data": {
            "text/plain": [
              "array([[20.91671923],\n",
              "       [23.57055574]])"
            ]
          },
          "execution_count": 13,
          "metadata": {},
          "output_type": "execute_result"
        }
      ],
      "source": [
        "b\n",
        "\n",
        "# 결론적으로 x와 y는 선형 관계를 가지는 데이터로 생성됨\n",
        "# A와 b를 구성하여 선형 회귀 방정식을 설정\n",
        "# A_inv를 구해 θ = [a, b]를 계산하여 y = ax + b 형태의 최적 회귀 계수를 찾음"
      ]
    }
  ],
  "metadata": {
    "colab": {
      "provenance": []
    },
    "kernelspec": {
      "display_name": "base",
      "language": "python",
      "name": "python3"
    },
    "language_info": {
      "codemirror_mode": {
        "name": "ipython",
        "version": 3
      },
      "file_extension": ".py",
      "mimetype": "text/x-python",
      "name": "python",
      "nbconvert_exporter": "python",
      "pygments_lexer": "ipython3",
      "version": "3.9.13"
    }
  },
  "nbformat": 4,
  "nbformat_minor": 0
}
