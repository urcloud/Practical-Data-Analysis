{
  "cells": [
    {
      "cell_type": "code",
      "execution_count": 1,
      "metadata": {
        "id": "tli1G02KM-Nw"
      },
      "outputs": [],
      "source": [
        "import numpy as np\n",
        "import matplotlib.pyplot as plt\n",
        "import pandas as pd\n",
        "\n",
        "from scipy.optimize import minimize \n",
        "# not curve_fit !!!"
      ]
    },
    {
      "cell_type": "code",
      "execution_count": 2,
      "metadata": {
        "id": "_RLPFYl4Vzg1"
      },
      "outputs": [],
      "source": [
        "f = lambda x: 3*x**2-1                       \n",
        "# Define underlying true function\n",
        "\n",
        "def my_func(x,a,b,c):                        \n",
        "# Candidate\n",
        "  return a*x**2+b*x+c\n",
        "# a, b, c라는 파라미터를 가진 2차 함수\n",
        "# 실제 f(x)와 유사한 함수로, 최적화할 파라미터(a, b, c)를 찾으려는 함수\n",
        "\n",
        "def loss(param, x, y):                       \n",
        "# Define loss function\n",
        "  return np.sum((y - my_func(x, *param))**2)\n",
        "# 주어진 x와 y 값에 대해 예측된 값(my_func(x, *param))과 실제 값(y)의 차이를 제곱하여 합산한 값을 반환\n",
        "# 이 값을 최소화하려는 것이 목표\n",
        "# 예측값과 실제값 간의 오차를 최소화하려고 함"
      ]
    },
    {
      "cell_type": "markdown",
      "metadata": {
        "id": "dD5YUVueYH3x"
      },
      "source": [
        "**Well determined system**"
      ]
    },
    {
      "cell_type": "markdown",
      "metadata": {
        "id": "Gm--R7GUYNmg"
      },
      "source": [
        "Curve fitting with *minimize* in scipy"
      ]
    },
    {
      "cell_type": "code",
      "execution_count": 3,
      "metadata": {
        "id": "b-bY6Kz4NMfm"
      },
      "outputs": [],
      "source": [
        "x_data = np.array([1, 2, 3])    \n",
        "# generate samples manually\n",
        "#x_data = np.random.randn(3,1)               \n",
        "# 3: # samples, 1: # features\n",
        "# 독립 변수(x)"
      ]
    },
    {
      "cell_type": "code",
      "execution_count": 4,
      "metadata": {
        "id": "oDd8IrrWV0ZM"
      },
      "outputs": [
        {
          "name": "stdout",
          "output_type": "stream",
          "text": [
            "[ 2 11 26]\n"
          ]
        }
      ],
      "source": [
        "y_data = f(x_data)\n",
        "# x_data에 대해 f(x)를 적용한 값\n",
        "# 실제 출력 값(y)을 계산한 결과\n",
        "print(y_data)"
      ]
    },
    {
      "cell_type": "code",
      "execution_count": 5,
      "metadata": {
        "id": "BhXfu_pbFqmv"
      },
      "outputs": [],
      "source": [
        "p0 = [0.1, 0.1, 0.1] \n",
        "# initial guess for all params\n",
        "# p0는 최적화 초기값\n",
        "# a, b, c의 초기값을 0.1, 0.1, 0.1로 설정함"
      ]
    },
    {
      "cell_type": "code",
      "execution_count": 6,
      "metadata": {
        "id": "RAWg7_XRbdeu"
      },
      "outputs": [],
      "source": [
        "res = minimize(loss, p0, args=(x_data, y_data), method='BFGS')\n",
        "# minimize() 함수는 최소화 문제를 풀기 위한 함수\n",
        "# 여기서는 손실 함수(loss)를 최소화하는 파라미터를 찾음\n",
        "# method='BFGS'는 최적화 알고리즘으로, BFGS(Broyden–Fletcher–Goldfarb–Shanno) 방법을 사용\n",
        "# 비선형 최적화 문제를 해결하는 방법 중 하나"
      ]
    },
    {
      "cell_type": "code",
      "execution_count": 7,
      "metadata": {
        "id": "LVPy6jaNFn8_"
      },
      "outputs": [
        {
          "data": {
            "text/plain": [
              "      fun: 2.2714938377714228e-13\n",
              " hess_inv: array([[  0.74967146,  -2.99865124,   2.49882136],\n",
              "       [ -2.99865124,  12.24446296, -10.49516133],\n",
              "       [  2.49882136, -10.49516133,   9.49577163]])\n",
              "      jac: array([-6.06199535e-11, -7.11608550e-12, -1.82289739e-11])\n",
              "  message: 'Optimization terminated successfully.'\n",
              "     nfev: 52\n",
              "      nit: 10\n",
              "     njev: 13\n",
              "   status: 0\n",
              "  success: True\n",
              "        x: array([ 2.99999942e+00,  2.29506491e-06, -1.00000189e+00])"
            ]
          },
          "execution_count": 7,
          "metadata": {},
          "output_type": "execute_result"
        }
      ],
      "source": [
        "res\n",
        "# res는 최적화 결과"
      ]
    },
    {
      "cell_type": "code",
      "execution_count": null,
      "metadata": {
        "id": "OYhiI17oF1mK"
      },
      "outputs": [
        {
          "name": "stdout",
          "output_type": "stream",
          "text": [
            "[ 2.99999942e+00  2.29506491e-06 -1.00000189e+00]\n"
          ]
        }
      ],
      "source": [
        "print(res.x)\n",
        "# 최적화된 파라미터 값 출력\n",
        "# 3개의 점(x_data값)에 대해 f(x) 함수와 비슷한 형태를 가지는 2차 함수 my_func의 파라미터 a, b, c를 찾는 문제\n",
        "# minimize 함수는 손실 함수를 최소화하는 파라미터 값을 찾는데, 이때 my_func가 실제 데이터(y_data)와 얼마나 차이가 나는지 계산하고, 그 차이를 최소화하는 파라미터 a, b, c를 찾음"
      ]
    },
    {
      "cell_type": "markdown",
      "metadata": {
        "id": "lPnqkvk4HTX8"
      },
      "source": [
        "**Under determined system**"
      ]
    },
    {
      "cell_type": "code",
      "execution_count": null,
      "metadata": {
        "id": "jpVC2k4iGDCG"
      },
      "outputs": [],
      "source": [
        "x_data = np.array([1,2])\n",
        "y_data = f(x_data)\n",
        "p0 = [0.1,0.1,0.1] \n",
        "# initial guess for all params\n",
        "# x_data는 독립 변수 값\n",
        "# p0는 마찬가지로 초기 파라미터 값, 최적화 알고리즘이 시작할 때 사용됨"
      ]
    },
    {
      "cell_type": "code",
      "execution_count": null,
      "metadata": {
        "id": "dTqkK43sHlfk"
      },
      "outputs": [
        {
          "data": {
            "text/plain": [
              "array([ 2, 11], dtype=int32)"
            ]
          },
          "execution_count": 10,
          "metadata": {},
          "output_type": "execute_result"
        }
      ],
      "source": [
        "y_data\n",
        "# y_data는 f(x) 함수에 x_data를 넣어서 계산한 실제 출력값"
      ]
    },
    {
      "cell_type": "code",
      "execution_count": null,
      "metadata": {
        "id": "7cxSOTqvHZ_t"
      },
      "outputs": [],
      "source": [
        "res = minimize(loss, p0, args=(x_data, y_data), method='BFGS')\n",
        "# minimize()는 최적화 함수\n",
        "# 주어진 손실 함수를 최소화하는 파라미터를 찾음\n",
        "# 첫 번째 인수 loss는 최소화하려는 함수\n",
        "# 두 번째 인수 p0는 초기 추정값, 최적화는 이 값에서 시작됨\n",
        "# args=(x_data, y_data)는 loss 함수에 전달될 추가 인수, 여기서는 x_data와 y_data가 전달됨\n",
        "# method='BFGS'는 최적화에 사용할 알고리즘으로, BFGS(Broyden–Fletcher–Goldfarb–Shanno) 알고리즘은 비선형 최적화에 자주 사용되는 알고리즘임임"
      ]
    },
    {
      "cell_type": "code",
      "execution_count": null,
      "metadata": {
        "id": "xUVUgwd1HcQh"
      },
      "outputs": [
        {
          "data": {
            "text/plain": [
              "      fun: 2.472072753990544e-15\n",
              " hess_inv: array([[ 0.26042145, -0.35222683, -0.15856858],\n",
              "       [-0.35222683,  0.77058002, -0.16802213],\n",
              "       [-0.15856858, -0.16802213,  0.82725155]])\n",
              "      jac: array([ 6.06115158e-09, -1.79188913e-08,  1.47945709e-08])\n",
              "  message: 'Optimization terminated successfully.'\n",
              "     nfev: 28\n",
              "      nit: 6\n",
              "     njev: 7\n",
              "   status: 0\n",
              "  success: True\n",
              "        x: array([ 2.92857116,  0.21428646, -1.14285759])"
            ]
          },
          "execution_count": 12,
          "metadata": {},
          "output_type": "execute_result"
        }
      ],
      "source": [
        "res\n",
        "# minimize() 함수의 최적화 결과\n",
        "# 최적화 과정에서 찾은 파라미터 값들, 최적화가 완료된 상태, 최적화에 소요된 시간 등의 정보가 포함됨됨"
      ]
    },
    {
      "cell_type": "code",
      "execution_count": null,
      "metadata": {
        "id": "XWLWeX2qHc9M"
      },
      "outputs": [
        {
          "data": {
            "text/plain": [
              "array([ 2.92857116,  0.21428646, -1.14285759])"
            ]
          },
          "execution_count": 13,
          "metadata": {},
          "output_type": "execute_result"
        }
      ],
      "source": [
        "res.x\n",
        "# 최적화된 파라미터, a, b, c의 값이 최소 손실 함수를 갖는 값으로 최적화된 결과를 보여줌\n",
        "# 주어진 x_data, y_data에 대해 2차 함수 my_func의 파라미터 a, b, c를 최적화 하려고 함\n",
        "# 손실함수는 my_func와 실제 데이터 y_data 사이의 차이를 제곱하여 합산한 값\n",
        "# minimize() 함수를 사용해 해당 손실 함수를 최소화하는 최적의 파라미터 a, b, c를 찾음\n",
        "# 즉, f(x) = 3x² - 1에 가장 근접한 함수 my_func(x) = 2x² - 1로 파라미터가 최적화된 결과"
      ]
    },
    {
      "cell_type": "markdown",
      "metadata": {
        "id": "netU70u3JoLo"
      },
      "source": [
        "**over determined system**"
      ]
    },
    {
      "cell_type": "code",
      "execution_count": null,
      "metadata": {
        "id": "pHzLhHokJU6g"
      },
      "outputs": [],
      "source": [
        "x_data = np.array([1, 2, 3, 4])\n",
        "y_data = f(x_data)\n",
        "p0 = [0.1,0.1,0.1]\n",
        "# 마찬가지로 독립변수 x_data값, f(x)에 x_data 적용해 계산된 값인 y_data, 초기 추정값 p0가 주어짐"
      ]
    },
    {
      "cell_type": "code",
      "execution_count": null,
      "metadata": {
        "id": "QgMHEy7YJq9J"
      },
      "outputs": [],
      "source": [
        "res = minimize(loss, p0, args=(x_data, y_data), method='BFGS')\n",
        "# 마찬가지로 loss 함수는 y_data와 my_func(x, a, b, c) 간의 차이의 제곱합을 계산\n",
        "# args=(x_data, y_data)는 x_data와 y_data가 loss 함수에 전달된다는 의미\n",
        "# method='BFGS'는 최적화에 사용할 알고리즘을 지정하는 것, 마찬가지로 비선형 최적화에 사용되는 알고리즘"
      ]
    },
    {
      "cell_type": "code",
      "execution_count": null,
      "metadata": {
        "id": "R3qmLvN_Jvu3"
      },
      "outputs": [
        {
          "data": {
            "text/plain": [
              "array([ 2.99999958e+00,  2.06361844e-06, -1.00000203e+00])"
            ]
          },
          "execution_count": 16,
          "metadata": {},
          "output_type": "execute_result"
        }
      ],
      "source": [
        "res.x\n",
        "# 최적화된 파라미터 a, b, c 값을 확인"
      ]
    },
    {
      "cell_type": "markdown",
      "metadata": {
        "id": "6rpHnBDjJykp"
      },
      "source": [
        "**Over determined system with error term**"
      ]
    },
    {
      "cell_type": "code",
      "execution_count": null,
      "metadata": {
        "id": "WSOCAjWoJzBg"
      },
      "outputs": [],
      "source": [
        "y_data = y_data + 7*np.random.randn(*np.shape(y_data))\n",
        "# y_data에 가우시안 노이즈를 추가\n",
        "# 평균 0, 표준편차 1인 정규분포에서 y_data의 크기만큼 랜덤한 값들을 생성하는 함수\n",
        "# 그 값을 7배 키워서 노이즈를 추가하는 역할\n",
        "# 노이즈는 데이터를 더 불확실하게 만들어, 최적화가 정확하지 않게 만드는 효과가 있음"
      ]
    },
    {
      "cell_type": "code",
      "execution_count": null,
      "metadata": {
        "id": "0xWQkcdbJ1Cu"
      },
      "outputs": [],
      "source": [
        "res = minimize(loss, p0, args=(x_data, y_data), method='BFGS')\n",
        "# 마찬가지로 최적화를 수행해 최적의 파라미터 값을 찾음"
      ]
    },
    {
      "cell_type": "code",
      "execution_count": null,
      "metadata": {
        "id": "3WAKCHecJ2BG"
      },
      "outputs": [
        {
          "data": {
            "image/png": "[encoded data removed]",
            "text/plain": [
              "<Figure size 640x480 with 1 Axes>"
            ]
          },
          "metadata": {},
          "output_type": "display_data"
        }
      ],
      "source": [
        "x = np.linspace(np.min(x_data), np.max(x_data), 100)\n",
        "y = my_func(x, *res.x)\n",
        "# x_data의 최소값과 최대값 사이를 100개의 점으로 균등하게 나눈 값들을 x로 생성\n",
        "# 최적화된 파라미터 res.x를 사용하여 my_func(x)를 계산, 이 값들은 최적화된 함수로 예측된 값들\n",
        "\n",
        "figure = plt.figure()\n",
        "axes = figure.add_subplot(111)\n",
        "axes.scatter(x_data, y_data, label='true data', color = \"red\")\n",
        "axes.plot(x, y, label='sol. with parameter estimates', color = \"black\")\n",
        "axes.legend()\n",
        "plt.show()\n",
        "# matplotlib를 사용하여 실제 데이터와 최적화 결과를 그래프로 시각화\n",
        "# 빨간색 점은 원본 데이터 (실제값)\n",
        "# 검은색 선은 최적화된 함수의 예측"
      ]
    }
  ],
  "metadata": {
    "colab": {
      "provenance": []
    },
    "kernelspec": {
      "display_name": "base",
      "language": "python",
      "name": "python3"
    },
    "language_info": {
      "codemirror_mode": {
        "name": "ipython",
        "version": 3
      },
      "file_extension": ".py",
      "mimetype": "text/x-python",
      "name": "python",
      "nbconvert_exporter": "python",
      "pygments_lexer": "ipython3",
      "version": "3.9.13"
    }
  },
  "nbformat": 4,
  "nbformat_minor": 0
}
