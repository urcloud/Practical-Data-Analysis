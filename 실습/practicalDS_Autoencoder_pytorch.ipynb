{
  "nbformat": 4,
  "nbformat_minor": 0,
  "metadata": {
    "colab": {
      "provenance": []
    },
    "kernelspec": {
      "name": "python3",
      "display_name": "Python 3"
    },
    "language_info": {
      "name": "python"
    }
  },
  "cells": [
    {
      "cell_type": "code",
      "execution_count": null,
      "metadata": {
        "id": "HTXKTF_NCv9b"
      },
      "outputs": [],
      "source": [
        "import numpy as np\n",
        "import torch\n",
        "from torch import nn"
      ]
    },
    {
      "cell_type": "code",
      "source": [
        "# Data generation\n",
        "n = 100 #number of samples\n",
        "np.random.seed(0)\n",
        "X_tmp = np.random.randn(n,3)\n",
        "X = np.zeros(shape=(n,5))\n",
        "X[:,0] = X_tmp[:,0]\n",
        "X[:,2] = X_tmp[:,1]\n",
        "X[:,4] = X_tmp[:,2]\n",
        "\n",
        "print(X[:4])"
      ],
      "metadata": {
        "id": "J-gwzOYPDu6o"
      },
      "execution_count": null,
      "outputs": []
    },
    {
      "cell_type": "code",
      "source": [
        "X = X - np.mean(X, axis=0)  # mean centering\n",
        "\n",
        "print(X[:4])"
      ],
      "metadata": {
        "id": "gHjWxMymERoa"
      },
      "execution_count": null,
      "outputs": []
    },
    {
      "cell_type": "code",
      "source": [
        "X_tensor = torch.tensor(X, dtype=torch.float32).unsqueeze(1)"
      ],
      "metadata": {
        "id": "fhTAp3Awu_VW"
      },
      "execution_count": null,
      "outputs": []
    },
    {
      "cell_type": "code",
      "source": [
        "X_tensor[:4]"
      ],
      "metadata": {
        "id": "2U27eMXCTZYL"
      },
      "execution_count": null,
      "outputs": []
    },
    {
      "cell_type": "code",
      "source": [
        "class AutoEncoder(nn.Module):\n",
        "    def __init__(self):\n",
        "        super().__init__()\n",
        "        self.act = nn.Tanh()\n",
        "\n",
        "        self.enc1 = nn.Linear(5, 4)\n",
        "        self.enc2 = nn.Linear(4, 3)\n",
        "\n",
        "        self.dec1 = nn.Linear(3, 4)\n",
        "        self.dec2 = nn.Linear(4, 5)\n",
        "\n",
        "    def E(self, x):\n",
        "        x = self.act(self.enc1(x))\n",
        "        x = self.act(self.enc2(x))\n",
        "        return x\n",
        "\n",
        "    def D(self, x):\n",
        "        x = self.act(self.dec1(x))\n",
        "        x = self.dec2(x)\n",
        "        return x\n",
        "\n",
        "    def forward(self, x):\n",
        "        z = self.E(x)\n",
        "        return self.D(z)"
      ],
      "metadata": {
        "id": "c-Ut8O4vfoTt"
      },
      "execution_count": null,
      "outputs": []
    },
    {
      "cell_type": "code",
      "source": [
        "lr = 0.001\n",
        "epochs = 10000"
      ],
      "metadata": {
        "id": "Sp9U7F6JF8yu"
      },
      "execution_count": null,
      "outputs": []
    },
    {
      "cell_type": "code",
      "source": [
        "model = AutoEncoder()\n",
        "criterion = nn.MSELoss()\n",
        "optimizer = torch.optim.Adam(model.parameters(), lr=lr)"
      ],
      "metadata": {
        "id": "pEFiw5dYTMqQ"
      },
      "execution_count": null,
      "outputs": []
    },
    {
      "cell_type": "code",
      "source": [
        "model(X_tensor)[:4]"
      ],
      "metadata": {
        "id": "sRE6980ITVS8"
      },
      "execution_count": null,
      "outputs": []
    },
    {
      "cell_type": "code",
      "source": [
        "# Training\n",
        "for epoch in range(epochs):\n",
        "    optimizer.zero_grad()\n",
        "    x_hat = model(X_tensor)\n",
        "    loss = criterion(x_hat, X_tensor)\n",
        "    loss.backward()\n",
        "    optimizer.step()\n",
        "\n",
        "    if epoch % 1000 == 0:\n",
        "        print(f\"Epoch {epoch}: Loss = {loss.item() / n:.6f}\")"
      ],
      "metadata": {
        "id": "NSY02lpQF0s_"
      },
      "execution_count": null,
      "outputs": []
    },
    {
      "cell_type": "code",
      "source": [
        "z = model.E(X_tensor)"
      ],
      "metadata": {
        "id": "e5zaWkbCHsbJ"
      },
      "execution_count": null,
      "outputs": []
    },
    {
      "cell_type": "code",
      "source": [
        "print(z[:4])"
      ],
      "metadata": {
        "id": "OX97ErBJRriL"
      },
      "execution_count": null,
      "outputs": []
    },
    {
      "cell_type": "code",
      "source": [
        "X_hat = model.D(z).detach().numpy()"
      ],
      "metadata": {
        "id": "vXoBWkByRsOC"
      },
      "execution_count": null,
      "outputs": []
    },
    {
      "cell_type": "code",
      "source": [
        "print(np.round(X_hat[:4],2))"
      ],
      "metadata": {
        "id": "GmC8sXD_UJse"
      },
      "execution_count": null,
      "outputs": []
    },
    {
      "cell_type": "code",
      "source": [
        "print(X[:4])"
      ],
      "metadata": {
        "id": "jzwSbWNjRtp5"
      },
      "execution_count": null,
      "outputs": []
    },
    {
      "cell_type": "code",
      "source": [
        "import matplotlib.pyplot as plt\n",
        "from mpl_toolkits.mplot3d import Axes3D\n",
        "latent = z.detach().numpy().squeeze()\n",
        "\n",
        "fig = plt.figure(figsize=(6,5))\n",
        "ax = fig.add_subplot(111, projection='3d')\n",
        "ax.scatter(latent[:, 0], latent[:, 1], latent[:, 2], alpha=0.7)\n",
        "ax.set_title(\"Latent Space (3D)\")\n",
        "plt.show()"
      ],
      "metadata": {
        "id": "mT__gIadR0Ux"
      },
      "execution_count": null,
      "outputs": []
    },
    {
      "cell_type": "code",
      "source": [],
      "metadata": {
        "id": "0NVhyhHgUdT8"
      },
      "execution_count": null,
      "outputs": []
    }
  ]
}