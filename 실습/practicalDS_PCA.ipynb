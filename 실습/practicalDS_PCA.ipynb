{
  "nbformat": 4,
  "nbformat_minor": 0,
  "metadata": {
    "colab": {
      "provenance": []
    },
    "kernelspec": {
      "name": "python3",
      "display_name": "Python 3"
    },
    "language_info": {
      "name": "python"
    }
  },
  "cells": [
    {
      "cell_type": "code",
      "execution_count": null,
      "metadata": {
        "id": "HTXKTF_NCv9b"
      },
      "outputs": [],
      "source": [
        "import numpy as np"
      ]
    },
    {
      "cell_type": "code",
      "source": [
        "# Data generation\n",
        "n = 100 #number of samples\n",
        "np.random.seed(0)\n",
        "X_tmp = np.random.randn(n,3)\n",
        "X = np.zeros(shape=(n,5))\n",
        "X[:,0] = X_tmp[:,0]\n",
        "X[:,2] = X_tmp[:,1]\n",
        "X[:,4] = X_tmp[:,2]\n",
        "\n",
        "print(X[:4])"
      ],
      "metadata": {
        "id": "J-gwzOYPDu6o"
      },
      "execution_count": null,
      "outputs": []
    },
    {
      "cell_type": "code",
      "source": [
        "X = X - np.mean(X, axis=0)  # mean centering\n",
        "\n",
        "print(X[:4])"
      ],
      "metadata": {
        "id": "gHjWxMymERoa"
      },
      "execution_count": null,
      "outputs": []
    },
    {
      "cell_type": "code",
      "source": [
        "np.random.seed(0)\n",
        "\n",
        "num_latent = 3\n",
        "W = np.random.randn(num_latent, np.shape(X)[1]) # Initialization"
      ],
      "metadata": {
        "id": "wLLMCf5KESbB"
      },
      "execution_count": null,
      "outputs": []
    },
    {
      "cell_type": "code",
      "source": [
        "print(W)"
      ],
      "metadata": {
        "id": "mYrgmY7bFFQw"
      },
      "execution_count": null,
      "outputs": []
    },
    {
      "cell_type": "code",
      "source": [
        "Z = X @ W.T # Just 3 dimensional random vectors...."
      ],
      "metadata": {
        "id": "qXqpbPTpFGjd"
      },
      "execution_count": null,
      "outputs": []
    },
    {
      "cell_type": "code",
      "source": [
        "print(Z[:4])"
      ],
      "metadata": {
        "id": "pwsooHr1FUx2"
      },
      "execution_count": null,
      "outputs": []
    },
    {
      "cell_type": "code",
      "source": [
        "X_hat = Z@W"
      ],
      "metadata": {
        "id": "P4E8mhpYFv-0"
      },
      "execution_count": null,
      "outputs": []
    },
    {
      "cell_type": "code",
      "source": [
        "print(X_hat[:4])"
      ],
      "metadata": {
        "id": "ZSJ4femOFxVM"
      },
      "execution_count": null,
      "outputs": []
    },
    {
      "cell_type": "markdown",
      "source": [
        "$L=\\frac{1}{n}\\sum_{i=1}^{n}\\|X_i-\\hat{X}_i\\|^2_2$"
      ],
      "metadata": {
        "id": "RxCfDgv40If4"
      }
    },
    {
      "cell_type": "code",
      "source": [
        "loss = np.mean(np.sum((X - X_hat)**2, axis=1))"
      ],
      "metadata": {
        "id": "YeFjN_NhzdHD"
      },
      "execution_count": null,
      "outputs": []
    },
    {
      "cell_type": "code",
      "source": [
        "loss"
      ],
      "metadata": {
        "id": "VDGVGJaQzd_V"
      },
      "execution_count": null,
      "outputs": []
    },
    {
      "cell_type": "code",
      "source": [
        "lr = 1e-3\n",
        "epochs = 10000"
      ],
      "metadata": {
        "id": "Sp9U7F6JF8yu"
      },
      "execution_count": null,
      "outputs": []
    },
    {
      "cell_type": "markdown",
      "source": [
        "https://en.wikipedia.org/wiki/Matrix_calculus\n",
        "\n",
        "example: $\\frac{\\partial L}{\\partial w_{11}}=\\frac{1}{n}\\sum_{i=1}^{n}\\|X_i-\\hat{X}_i\\|^2_2=-\\frac{2}{n}\\sum_{i=1}^{n}\\|X_i-\\hat{X}_i\\|^2_2$\n"
      ],
      "metadata": {
        "id": "7cVFSp9nzQAQ"
      }
    },
    {
      "cell_type": "code",
      "source": [
        "for epoch in range(epochs): #pca without penalty\n",
        "    # latent variable\n",
        "    Z = X @ W.T        # (n, 1)\n",
        "\n",
        "    #reconstruction\n",
        "    X_hat = Z @ W      # (n, 2)\n",
        "\n",
        "    # reconstruction error\n",
        "    loss = np.mean(np.sum((X - X_hat)**2, axis=1))\n",
        "\n",
        "    # gradient (You can also utilize derivatives w.r.t matrix)\n",
        "    grad = -4 * ((X - X_hat).T @ Z).T / n\n",
        "    W = W - lr * grad\n",
        "\n",
        "    # print log\n",
        "    if epoch % 500 == 0:\n",
        "        print(f\"Epoch {epoch}: Loss = {loss:.4f}\")"
      ],
      "metadata": {
        "id": "NSY02lpQF0s_"
      },
      "execution_count": null,
      "outputs": []
    },
    {
      "cell_type": "code",
      "source": [
        "np.round(W,2)"
      ],
      "metadata": {
        "id": "R_EG_KUyF7H4"
      },
      "execution_count": null,
      "outputs": []
    },
    {
      "cell_type": "code",
      "source": [
        "Z = X @ W.T\n",
        "X_hat = Z @ W"
      ],
      "metadata": {
        "id": "ZZE38roDHpmw"
      },
      "execution_count": null,
      "outputs": []
    },
    {
      "cell_type": "code",
      "source": [
        "X[:4]"
      ],
      "metadata": {
        "id": "e5zaWkbCHsbJ"
      },
      "execution_count": null,
      "outputs": []
    },
    {
      "cell_type": "code",
      "source": [
        "np.round(X_hat[:4],2)"
      ],
      "metadata": {
        "id": "KwitsbA7HyVd"
      },
      "execution_count": null,
      "outputs": []
    },
    {
      "cell_type": "code",
      "source": [
        "np.random.seed(0)\n",
        "\n",
        "num_latent = 3\n",
        "W = np.random.randn(num_latent, np.shape(X)[1]) # Initialization\n",
        "\n",
        "lambda_penalty = 10.0  # 직교성 패널티 강도"
      ],
      "metadata": {
        "id": "nMjUntu5F-yu"
      },
      "execution_count": null,
      "outputs": []
    },
    {
      "cell_type": "code",
      "source": [
        "for epoch in range(epochs): #pca with penalty WW^T=I\n",
        "    # 투영 및 복원\n",
        "    Z = X @ W.T          # (n, k)\n",
        "    X_hat = Z @ W        # (n, d)\n",
        "\n",
        "    # reconstruction loss\n",
        "    loss_rec = np.mean(np.sum((X - X_hat)**2, axis=1))\n",
        "\n",
        "    # orthogonality penalty\n",
        "    WWt = W @ W.T        # (k, k)\n",
        "    I_k = np.eye(num_latent)\n",
        "    penalty = np.sum((WWt - I_k) ** 2)\n",
        "\n",
        "    # total loss\n",
        "    loss = loss_rec + lambda_penalty * penalty\n",
        "\n",
        "    # gradient (You can also utilize derivatives w.r.t matrix)\n",
        "    dW_rec = -4 * ((X - X_hat).T @ Z).T / n    # (k, d)\n",
        "    dW_pen = 4 * (WWt - I_k) @ W               # (k, d)\n",
        "\n",
        "    # gradient descent step\n",
        "    W -= lr * (dW_rec + lambda_penalty * dW_pen)\n",
        "\n",
        "    # print log\n",
        "    if epoch % 500 == 0:\n",
        "        print(f\"Epoch {epoch}: Total Loss={loss:.4f}, Rec Loss={loss_rec:.4f}, Penalty={penalty:.4f}\")\n",
        "\n"
      ],
      "metadata": {
        "id": "0F71oCxrGg2j"
      },
      "execution_count": null,
      "outputs": []
    },
    {
      "cell_type": "code",
      "source": [
        "W@W.T"
      ],
      "metadata": {
        "id": "cguQCmAYGtmP"
      },
      "execution_count": null,
      "outputs": []
    },
    {
      "cell_type": "code",
      "source": [
        "X[:4]"
      ],
      "metadata": {
        "id": "9hKMIfVUHe6L"
      },
      "execution_count": null,
      "outputs": []
    },
    {
      "cell_type": "code",
      "source": [
        "Z = X @ W.T\n",
        "X_hat = Z @ W"
      ],
      "metadata": {
        "id": "niNqMn17HCcB"
      },
      "execution_count": null,
      "outputs": []
    },
    {
      "cell_type": "code",
      "source": [
        "X_hat[:4]"
      ],
      "metadata": {
        "id": "bZ_SvYi_HOhO"
      },
      "execution_count": null,
      "outputs": []
    },
    {
      "cell_type": "code",
      "source": [
        "X[:4]-X_hat[:4]"
      ],
      "metadata": {
        "id": "rKpQOi1dHhtU"
      },
      "execution_count": null,
      "outputs": []
    },
    {
      "cell_type": "code",
      "source": [
        "print(np.round(W,2))"
      ],
      "metadata": {
        "id": "1tHZXkSQIJ02"
      },
      "execution_count": null,
      "outputs": []
    },
    {
      "cell_type": "code",
      "source": [
        "#Optional : SVD!!"
      ],
      "metadata": {
        "id": "nsyXC1mEIUy_"
      },
      "execution_count": null,
      "outputs": []
    }
  ]
}