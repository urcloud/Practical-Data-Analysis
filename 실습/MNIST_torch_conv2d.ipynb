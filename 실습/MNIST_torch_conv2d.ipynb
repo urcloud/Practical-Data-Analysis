{
  "cells": [
    {
      "cell_type": "code",
      "execution_count": null,
      "metadata": {
        "id": "rwF9lMSZONEM"
      },
      "outputs": [],
      "source": [
        "# MNIST 데이터셋을 로드하고 CNN을 정의하여 모델을 학습시키고\n",
        "# 테스트 데이터에 대한 예측 및 정확도 평가까지 수행하는 전체 딥러닝 파이프라인\n",
        "\n",
        "import numpy as np\n",
        "import pandas as pd\n",
        "import matplotlib.pyplot as plt\n",
        "# 데이터 전처리 및 시각화를 위해 사용\n",
        "\n",
        "import torch\n",
        "import torch.nn as nn\n",
        "import torch.optim as optim\n",
        "# PyTorch의 딥러닝 관련 모듈\n",
        "\n",
        "from tqdm.notebook import tqdm_notebook\n",
        "# Colab에서 학습 progress bar 표시"
      ]
    },
    {
      "cell_type": "code",
      "execution_count": null,
      "metadata": {
        "id": "xjSwEQVAS0af"
      },
      "outputs": [],
      "source": [
        "from google.colab import drive\n",
        "drive.mount('/content/drive')\n",
        "# 구글 드라이브의 데이터를 사용하기 위한 마운트"
      ]
    },
    {
      "cell_type": "code",
      "execution_count": null,
      "metadata": {
        "id": "Kh9GHyY4T9bj"
      },
      "outputs": [],
      "source": [
        "def show(img): ##visualize your image\n",
        "    plt.imshow(img[1:].reshape(28, 28), cmap='gray')\n",
        "    # 첫 번째 컬럼(label) 제외 → 픽셀만 사용, (28,28)로 reshape하여 이미지로 보여줌\n",
        "    plt.show()"
      ]
    },
    {
      "cell_type": "code",
      "execution_count": null,
      "metadata": {
        "id": "L0B32nbUS2D5"
      },
      "outputs": [],
      "source": [
        "df=pd.read_csv('/content/drive/MyDrive/mnist_train.csv')\n",
        "pxl = [\"pxl{}\".format(i) for i in range(len(df.columns)-1)]\n",
        "df.columns = [\"value\"] + pxl\n",
        "#df.rename(columns = {\"5\":\"value\"}, inplace = True)\n",
        "# MNIST 학습 데이터를 읽고 컬럼 이름을 숫자(label)와 픽셀값들로 나눔"
      ]
    },
    {
      "cell_type": "code",
      "execution_count": null,
      "metadata": {
        "id": "_y6XUPWzTIAA"
      },
      "outputs": [],
      "source": [
        "df.head(10)\n",
        "# 첫 10개 데이터 출력"
      ]
    },
    {
      "cell_type": "code",
      "execution_count": null,
      "metadata": {
        "id": "eC40R54VUPeW"
      },
      "outputs": [],
      "source": [
        "show(df.iloc[3].values) #visualize 3rd dataset (hand writing image)\n",
        "# 3번째 숫자 이미지 시각화"
      ]
    },
    {
      "cell_type": "code",
      "execution_count": null,
      "metadata": {
        "id": "dVNYjM0aURjM"
      },
      "outputs": [],
      "source": [
        "A = pd.DataFrame(df, columns = pxl).values\n",
        "# A: 이미지의 픽셀 값만 추출\n",
        "y_data = pd.DataFrame(df, columns = [\"value\"]).values\n",
        "# y_data: 정답 숫자(0~9)"
      ]
    },
    {
      "cell_type": "code",
      "execution_count": null,
      "metadata": {
        "id": "ZGkeSvHuEaJx"
      },
      "outputs": [],
      "source": [
        "A.shape"
      ]
    },
    {
      "cell_type": "code",
      "execution_count": null,
      "metadata": {
        "id": "Lt1j-hY6jwEd"
      },
      "outputs": [],
      "source": [
        "def digit_to_vec(value):\n",
        "  vec = np.zeros(shape = 10)\n",
        "  vec[value] = 1\n",
        "  return vec\n",
        "# 라벨을 원-핫 벡터로 변환\n",
        "# ex) 5 → [0,0,0,0,0,1,0,0,0,0]로 변환"
      ]
    },
    {
      "cell_type": "code",
      "execution_count": null,
      "metadata": {
        "id": "AqKndqzoUgnS"
      },
      "outputs": [],
      "source": [
        "y_data_vec = [digit_to_vec(y_data[k]) for k in range(len(y_data))]\n",
        "B = np.array(y_data_vec)"
      ]
    },
    {
      "cell_type": "code",
      "execution_count": null,
      "metadata": {
        "id": "2t7m-VIHEnNq"
      },
      "outputs": [],
      "source": [
        "B"
      ]
    },
    {
      "cell_type": "code",
      "execution_count": null,
      "metadata": {
        "id": "hvmomRC7mKyv"
      },
      "outputs": [],
      "source": [
        "x = torch.tensor(A, dtype=torch.float32)\n",
        "y = torch.tensor(B, dtype=torch.float32)\n",
        "x = x.unsqueeze(1) #new dimension at 1st comp.\n",
        "y = y\n",
        "\n",
        "x = x.view(-1,1,28,28)\n",
        "# Torch Tensor로 변환"
      ]
    },
    {
      "cell_type": "code",
      "execution_count": null,
      "metadata": {
        "id": "-wS93eCGrudR"
      },
      "outputs": [],
      "source": [
        "x.shape"
      ]
    },
    {
      "cell_type": "code",
      "execution_count": null,
      "metadata": {
        "id": "qXtBzpzOsbgw"
      },
      "outputs": [],
      "source": [
        "x[0].shape"
      ]
    },
    {
      "cell_type": "code",
      "execution_count": null,
      "metadata": {
        "id": "KgLXzm57sfjc"
      },
      "outputs": [],
      "source": [
        "conv = nn.Conv2d(in_channels=1, out_channels=2, kernel_size=(3,3)) #previous: conv1d, kernel_size=3\n",
        "# CNN 개념 테스트"
      ]
    },
    {
      "cell_type": "code",
      "execution_count": null,
      "metadata": {
        "id": "iEAjCWZ-s4jX"
      },
      "outputs": [],
      "source": [
        "list(conv.parameters())"
      ]
    },
    {
      "cell_type": "code",
      "execution_count": null,
      "metadata": {
        "id": "IwJft6lqrNmR"
      },
      "outputs": [],
      "source": [
        "plt.imshow(x[3].detach().numpy().squeeze(0))"
      ]
    },
    {
      "cell_type": "code",
      "execution_count": null,
      "metadata": {
        "id": "I_h99RW4soeH"
      },
      "outputs": [],
      "source": [
        "conv(x[0]).size()"
      ]
    },
    {
      "cell_type": "code",
      "execution_count": null,
      "metadata": {
        "id": "MTswCQcnuSd4"
      },
      "outputs": [],
      "source": [
        "conv = nn.Conv2d(in_channels=1, out_channels=1, kernel_size=(3,3))\n",
        "# Conv2D + MaxPooling이 어떻게 작동하는지 확인"
      ]
    },
    {
      "cell_type": "code",
      "execution_count": null,
      "metadata": {
        "id": "yX9J8tzKtntU"
      },
      "outputs": [],
      "source": [
        "x1 = conv(x[0])"
      ]
    },
    {
      "cell_type": "code",
      "execution_count": null,
      "metadata": {
        "id": "Z7E82uxKuUrn"
      },
      "outputs": [],
      "source": [
        "print(x1.shape)"
      ]
    },
    {
      "cell_type": "code",
      "execution_count": null,
      "metadata": {
        "id": "PoFQZqxzs0VB"
      },
      "outputs": [],
      "source": [
        "pool = nn.MaxPool2d(kernel_size=(3,3))"
      ]
    },
    {
      "cell_type": "code",
      "execution_count": null,
      "metadata": {
        "id": "qAmwQrj0u634"
      },
      "outputs": [],
      "source": [
        "list(pool.parameters())"
      ]
    },
    {
      "cell_type": "code",
      "execution_count": null,
      "metadata": {
        "id": "1hApsQAstphE"
      },
      "outputs": [],
      "source": [
        "pool(x1).shape"
      ]
    },
    {
      "cell_type": "code",
      "execution_count": null,
      "metadata": {
        "id": "KaMcGUeQt4r9"
      },
      "outputs": [],
      "source": [
        "x2 = pool(x1)\n",
        "print(x2.shape)"
      ]
    },
    {
      "cell_type": "code",
      "execution_count": null,
      "metadata": {
        "id": "ls8dwfWJuew3"
      },
      "outputs": [],
      "source": []
    },
    {
      "cell_type": "code",
      "execution_count": null,
      "metadata": {
        "id": "NrdhhunXla_n"
      },
      "outputs": [],
      "source": [
        "class CNN(nn.Module):\n",
        "  # CNN 모델 정의\n",
        "  # conv1, conv2: 합성곱 계층\n",
        "  # pool: 최대 풀링, linear: 마지막 분류층, softmax: 확률로 출력\n",
        "  # status=True: 중간 출력 shape 확인용\n",
        "    def __init__(self, status):\n",
        "        super(CNN, self).__init__()\n",
        "        self.conv1 = nn.Conv2d(in_channels=1, out_channels=2, kernel_size=(3,3))\n",
        "        self.conv2 = nn.Conv2d(in_channels=2, out_channels=3, kernel_size=(3,3))\n",
        "\n",
        "        self.linear = nn.Linear(75,10)\n",
        "        self.pool = nn.MaxPool2d(kernel_size=(2,2))\n",
        "\n",
        "        self.softmax = nn.Softmax(dim=1)\n",
        "        self.status = status\n",
        "\n",
        "    def forward(self, x):\n",
        "        x = self.conv1(x)\n",
        "        x = self.pool(x)\n",
        "        if self.status:\n",
        "          print(x.shape)\n",
        "\n",
        "        x = self.conv2(x)\n",
        "        x = self.pool(x)\n",
        "        if self.status:\n",
        "          print(x.shape)\n",
        "\n",
        "        x = x.view(x.size(0), -1)\n",
        "        if self.status:\n",
        "          print(x.shape)\n",
        "        x = self.linear(x)\n",
        "        x = self.softmax(x)\n",
        "        if self.status:\n",
        "          print(x.shape)\n",
        "        return x"
      ]
    },
    {
      "cell_type": "code",
      "execution_count": null,
      "metadata": {
        "id": "lHiAi6sM6ZO4"
      },
      "outputs": [],
      "source": [
        "model = CNN(status=True)\n",
        "# 모델 생성 및 출력 확인"
      ]
    },
    {
      "cell_type": "code",
      "execution_count": null,
      "metadata": {
        "id": "n0Q-SjnMCQoG"
      },
      "outputs": [],
      "source": [
        "model(x[:2])"
      ]
    },
    {
      "cell_type": "code",
      "execution_count": null,
      "metadata": {
        "id": "j9mK2qqF7IPX"
      },
      "outputs": [],
      "source": [
        "y-model(x)\n",
        "# 의미 없는 코드"
      ]
    },
    {
      "cell_type": "code",
      "execution_count": null,
      "metadata": {
        "id": "rEbS597Fmgen"
      },
      "outputs": [],
      "source": [
        "optimizer = optim.Adam(model.parameters(), lr=1e-5)\n",
        "# Adam Optimizer, MSE 손실 함수 사용\n",
        "\n",
        "loss_fn = nn.MSELoss()\n",
        "\n",
        "num_epochs = 1000\n",
        "# 전체 데이터를 배치 사이즈 20으로 1000번 학습\n"
      ]
    },
    {
      "cell_type": "code",
      "execution_count": null,
      "metadata": {
        "id": "3T_XwqKrm8CJ"
      },
      "outputs": [],
      "source": [
        "if True:\n",
        "\n",
        "  batch_size = 20\n",
        "  num_batches = x.size(0) // batch_size\n",
        "\n",
        "  for epoch in range(num_epochs):\n",
        "    # 미니배치 학습\n",
        "      model.train()\n",
        "      # 학습 모드 설정\n",
        "      # optimizer.zero_grad() → loss.backward() → optimizer.step(): 학습 단계\n",
        "\n",
        "      for i in tqdm_notebook(range(0, x.size(0), batch_size)):\n",
        "          x_batch = x[i:i+batch_size]\n",
        "          y_batch = y[i:i+batch_size]\n",
        "\n",
        "          # Forward\n",
        "          output = model(x_batch)\n",
        "          loss = loss_fn(output, y_batch)\n",
        "\n",
        "          # Backward\n",
        "          optimizer.zero_grad()\n",
        "          loss.backward()\n",
        "          optimizer.step()\n",
        "\n",
        "      print(f\"Epoch [{epoch+1}/{num_epochs}] Loss: {loss.item():.4f}\")\n",
        "      torch.save(model.state_dict(), 'MNIST_conv2d.pth')\n",
        "      # 학습된 모델 저장\n",
        "\n",
        "else:\n",
        "\n",
        "  model = torch.load('MNIST_conv2d.pth')\n"
      ]
    },
    {
      "cell_type": "code",
      "execution_count": null,
      "metadata": {
        "id": "rgpsiGe4nUSB"
      },
      "outputs": [],
      "source": [
        "df2=pd.read_csv('/content/drive/MyDrive/mnist_test.csv')\n",
        "# 테스트 데이터 로드\n",
        "pxl = [\"pxl{}\".format(i) for i in range(len(df.columns)-1)]\n",
        "df2.columns = [\"value\"] + pxl\n",
        "A2 = pd.DataFrame(df2, columns = pxl).values\n",
        "x_test = torch.tensor(A2, dtype=torch.float32).unsqueeze(1).view(-1,1,28,28)\n",
        "\n",
        "y_data2 = pd.DataFrame(df2, columns = [\"value\"]).values\n",
        "y_data2 = y_data2.reshape(-1)"
      ]
    },
    {
      "cell_type": "code",
      "execution_count": null,
      "metadata": {
        "id": "oTk4TT_Sp4Em"
      },
      "outputs": [],
      "source": [
        "# 모델 예측 및 정확도 평가\n",
        "model.eval()\n",
        "# eval()로 평가 모드\n",
        "y_pred = model(x_test).squeeze(1).detach().cpu().numpy()\n",
        "y_pred = np.argmax(y_pred,axis=1)"
      ]
    },
    {
      "cell_type": "code",
      "execution_count": null,
      "metadata": {
        "id": "hxz9-g9Kp7MR"
      },
      "outputs": [],
      "source": [
        "y_pred"
      ]
    },
    {
      "cell_type": "code",
      "execution_count": null,
      "metadata": {
        "id": "JRW4b9ZfqmG7"
      },
      "outputs": [],
      "source": [
        "y_data2"
      ]
    },
    {
      "cell_type": "code",
      "execution_count": null,
      "metadata": {
        "id": "rcNTz4xEqCRE"
      },
      "outputs": [],
      "source": [
        "(y_pred == y_data2).sum() / len(y_data2)\n",
        "# softmax 결과에서 가장 큰 값의 인덱스 = 예측값, 정답과 비교하여 정확도 계산"
      ]
    }
  ],
  "metadata": {
    "colab": {
      "provenance": []
    },
    "kernelspec": {
      "display_name": "Python 3",
      "name": "python3"
    },
    "language_info": {
      "name": "python"
    }
  },
  "nbformat": 4,
  "nbformat_minor": 0
}
