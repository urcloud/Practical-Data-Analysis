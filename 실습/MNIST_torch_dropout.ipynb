{
  "cells": [
    {
      "cell_type": "code",
      "execution_count": null,
      "metadata": {
        "id": "rwF9lMSZONEM"
      },
      "outputs": [],
      "source": [
        "import numpy as np\n",
        "# 수치 연산용 라이브러리\n",
        "import pandas as pd\n",
        "# 데이터프레임 형태로 데이터 관리\n",
        "import matplotlib.pyplot as plt\n",
        "# 이미지 시각화용\n",
        "\n",
        "import torch\n",
        "# 텐서 및 GPU 연산 지원\n",
        "import torch.nn as nn\n",
        "# 신경망 구성 요소 (Linear, ReLU 등 포함)\n",
        "import torch.optim as optim\n",
        "# 최적화 알고리즘 (Adam 등)\n",
        "from tqdm.notebook import tqdm_notebook\n",
        "# Colab에서 학습 진행률 표시"
      ]
    },
    {
      "cell_type": "code",
      "execution_count": null,
      "metadata": {
        "id": "xjSwEQVAS0af"
      },
      "outputs": [],
      "source": [
        "from google.colab import drive\n",
        "drive.mount('/content/drive')\n",
        "# 구글 드라이브 파일에 접근 가능하게 함"
      ]
    },
    {
      "cell_type": "code",
      "execution_count": null,
      "metadata": {
        "id": "Kh9GHyY4T9bj"
      },
      "outputs": [],
      "source": [
        "def show(img): ##visualize your image\n",
        "    plt.imshow(img[1:].reshape(28, 28), cmap='gray')\n",
        "    plt.show()\n",
        "    # 첫 번째 값(레이블)을 제외한 784개의 픽셀값을 28x28로 reshape하여 흑백 이미지로 보여줌"
      ]
    },
    {
      "cell_type": "code",
      "execution_count": null,
      "metadata": {
        "id": "L0B32nbUS2D5"
      },
      "outputs": [],
      "source": [
        "df=pd.read_csv('/content/drive/MyDrive/mnist_train.csv')\n",
        "pxl = [\"pxl{}\".format(i) for i in range(len(df.columns)-1)]\n",
        "df.columns = [\"value\"] + pxl\n",
        "#df.rename(columns = {\"5\":\"value\"}, inplace = True)\n",
        "# MNIST 훈련 데이터셋을 로드하고, 첫 번째 열은 value(정답 레이블), 나머지는 pxl0 ~ pxl783으로 이름 설정"
      ]
    },
    {
      "cell_type": "code",
      "execution_count": null,
      "metadata": {
        "id": "_y6XUPWzTIAA"
      },
      "outputs": [],
      "source": [
        "df.head(10)"
      ]
    },
    {
      "cell_type": "code",
      "execution_count": null,
      "metadata": {
        "id": "eC40R54VUPeW"
      },
      "outputs": [],
      "source": [
        "show(df.iloc[3].values) #visualize 3rd dataset (hand writing image)\n",
        "# 첫 10개의 데이터를 확인하고, 3번째 손글씨 이미지를 시각화"
      ]
    },
    {
      "cell_type": "code",
      "execution_count": null,
      "metadata": {
        "id": "dVNYjM0aURjM"
      },
      "outputs": [],
      "source": [
        "A = pd.DataFrame(df, columns = pxl).values\n",
        "# 입력 데이터 (784 픽셀)\n",
        "y_data = pd.DataFrame(df, columns = [\"value\"]).values\n",
        "# 정답 숫자 (0~9)"
      ]
    },
    {
      "cell_type": "code",
      "execution_count": null,
      "metadata": {
        "id": "ZGkeSvHuEaJx"
      },
      "outputs": [],
      "source": [
        "A.shape"
      ]
    },
    {
      "cell_type": "code",
      "execution_count": null,
      "metadata": {
        "id": "Lt1j-hY6jwEd"
      },
      "outputs": [],
      "source": [
        "def digit_to_vec(value):\n",
        "  vec = np.zeros(shape = 10)\n",
        "  vec[value] = 1\n",
        "  return vec"
      ]
    },
    {
      "cell_type": "code",
      "execution_count": null,
      "metadata": {
        "id": "AqKndqzoUgnS"
      },
      "outputs": [],
      "source": [
        "y_data_vec = [digit_to_vec(y_data[k]) for k in range(len(y_data))]\n",
        "B = np.array(y_data_vec)\n",
        "# 전체 정답을 one-hot 인코딩으로 변환하여 B에 저장"
      ]
    },
    {
      "cell_type": "code",
      "execution_count": null,
      "metadata": {
        "id": "2t7m-VIHEnNq"
      },
      "outputs": [],
      "source": [
        "B"
      ]
    },
    {
      "cell_type": "code",
      "execution_count": null,
      "metadata": {
        "id": "NrdhhunXla_n"
      },
      "outputs": [],
      "source": [
        "class FCNN(nn.Module):\n",
        "    def __init__(self, dropout_rate=0.5):\n",
        "        super(FCNN, self).__init__()\n",
        "        self.linear1 = nn.Linear(784, 64)\n",
        "        self.linear2 = nn.Linear(64, 32)\n",
        "        self.linear3 = nn.Linear(32, 10)\n",
        "        self.relu = nn.ReLU()\n",
        "        self.dropout = nn.Dropout(p=dropout_rate)\n",
        "        self.softmax = nn.Softmax(dim=1)\n",
        "        # 3개의 Linear층과 ReLU, Dropout, Softmax 사용\n",
        "        # 입력 → 784, 출력 → 10 (클래스 수)\n",
        "\n",
        "    def forward(self, x):\n",
        "        #x = self.dropout(x)  # Dropout for input layer\n",
        "        x = self.linear1(x)\n",
        "        x = self.relu(x)\n",
        "        x = self.dropout(x)  # Dropout after first ReLU\n",
        "\n",
        "        x = self.linear2(x)\n",
        "        x = self.relu(x)\n",
        "        x = self.dropout(x)  # Dropout after second ReLU\n",
        "\n",
        "        x = self.linear3(x)\n",
        "        x = self.softmax(x)\n",
        "        return x\n",
        "    # 순전파 정의 (Dropout은 학습 시 과적합 방지 목적)"
      ]
    },
    {
      "cell_type": "code",
      "execution_count": null,
      "metadata": {
        "id": "FbntfCejmIgf"
      },
      "outputs": [],
      "source": [
        "model = FCNN()\n",
        "# 모델 생성"
      ]
    },
    {
      "cell_type": "code",
      "execution_count": null,
      "metadata": {
        "id": "hvmomRC7mKyv"
      },
      "outputs": [],
      "source": [
        "x = torch.tensor(A, dtype=torch.float32)\n",
        "y = torch.tensor(B, dtype=torch.float32)\n",
        "# NumPy 배열 → PyTorch 텐서 변환"
      ]
    },
    {
      "cell_type": "code",
      "execution_count": null,
      "metadata": {
        "id": "XLejayqZmQGI"
      },
      "outputs": [],
      "source": [
        "model(x)"
      ]
    },
    {
      "cell_type": "code",
      "execution_count": null,
      "metadata": {
        "id": "vVRtV-y-mQX6"
      },
      "outputs": [],
      "source": [
        "x.shape"
      ]
    },
    {
      "cell_type": "code",
      "execution_count": null,
      "metadata": {
        "id": "rEbS597Fmgen"
      },
      "outputs": [],
      "source": [
        "optimizer = optim.Adam(model.parameters(), lr=1e-3)\n",
        "# 옵티마이저: Adam\n",
        "loss_fn = nn.MSELoss()\n",
        "# 손실 함수: 평균 제곱 오차 (MSE) → 분류 문제에서는 일반적으로 CrossEntropyLoss를 더 자주 사용\n",
        "num_epochs = 1000\n"
      ]
    },
    {
      "cell_type": "code",
      "execution_count": null,
      "metadata": {
        "id": "3T_XwqKrm8CJ"
      },
      "outputs": [],
      "source": [
        "for epoch in tqdm_notebook(range(num_epochs)):\n",
        "    model.train()\n",
        "\n",
        "    # Forward\n",
        "    output = model(x)\n",
        "    loss = loss_fn(output, y)\n",
        "\n",
        "    # Backward\n",
        "    optimizer.zero_grad()\n",
        "    loss.backward()\n",
        "    optimizer.step()\n",
        "    if epoch % 10 == 0:\n",
        "      print(f\"Epoch [{epoch+1}/{num_epochs}] Loss: {loss.item():.4f}\")\n",
        "      # 학습단계: 순전파 → 손실 계산 → 역전파 → 파라미터 업데이트\n",
        "      # 10 에폭마다 loss 출력"
      ]
    },
    {
      "cell_type": "code",
      "execution_count": null,
      "metadata": {
        "id": "rgpsiGe4nUSB"
      },
      "outputs": [],
      "source": [
        "df2=pd.read_csv('/content/drive/MyDrive/mnist_test.csv')\n",
        "pxl = [\"pxl{}\".format(i) for i in range(len(df.columns)-1)]\n",
        "df2.columns = [\"value\"] + pxl\n",
        "A2 = pd.DataFrame(df2, columns = pxl).values\n",
        "x_test = torch.tensor(A2, dtype=torch.float32)\n",
        "# 테스트 데이터셋을 로드하고 입력만 추출해서 x_test 텐서로 변환\n",
        "\n",
        "y_data2 = pd.DataFrame(df2, columns = [\"value\"]).values\n",
        "y_data2 = y_data2.reshape(-1)\n",
        "# 테스트 정답 라벨 추출 및 1차원 배열로 reshape"
      ]
    },
    {
      "cell_type": "code",
      "execution_count": null,
      "metadata": {
        "id": "oTk4TT_Sp4Em"
      },
      "outputs": [],
      "source": [
        "model.eval()\n",
        "y_pred = model(x_test).detach().cpu().numpy()\n",
        "y_pred = np.argmax(y_pred,axis=1)\n",
        "# 모델을 평가 모드로 전환 후 예측 수행\n",
        "# 예측 결과는 one-hot 확률 벡터 → 가장 높은 확률의 인덱스로 클래스 결정"
      ]
    },
    {
      "cell_type": "code",
      "execution_count": null,
      "metadata": {
        "id": "hxz9-g9Kp7MR"
      },
      "outputs": [],
      "source": [
        "y_pred"
      ]
    },
    {
      "cell_type": "code",
      "execution_count": null,
      "metadata": {
        "id": "JRW4b9ZfqmG7"
      },
      "outputs": [],
      "source": [
        "y_data2"
      ]
    },
    {
      "cell_type": "code",
      "execution_count": null,
      "metadata": {
        "id": "rcNTz4xEqCRE"
      },
      "outputs": [],
      "source": [
        "(y_pred == y_data2).sum() / len(y_data2)\n",
        "# 전체 중 예측이 정답과 일치하는 비율 (정확도) 계산"
      ]
    },
    {
      "cell_type": "code",
      "execution_count": null,
      "metadata": {
        "id": "wTeVihAPqNHE"
      },
      "outputs": [],
      "source": []
    }
  ],
  "metadata": {
    "colab": {
      "provenance": []
    },
    "kernelspec": {
      "display_name": "Python 3",
      "name": "python3"
    },
    "language_info": {
      "name": "python"
    }
  },
  "nbformat": 4,
  "nbformat_minor": 0
}
