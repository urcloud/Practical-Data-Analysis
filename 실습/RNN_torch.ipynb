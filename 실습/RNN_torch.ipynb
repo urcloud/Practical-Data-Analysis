{
  "cells": [
    {
      "cell_type": "code",
      "execution_count": null,
      "metadata": {
        "id": "IxKzYbeyFhvu"
      },
      "outputs": [],
      "source": [
        "import torch"
      ]
    },
    {
      "cell_type": "code",
      "execution_count": null,
      "metadata": {
        "id": "s4tyVKG9F5xf"
      },
      "outputs": [],
      "source": [
        "# Fix seed\n",
        "torch.manual_seed(0)\n",
        "# 재현 가능한 결과를 위해 랜덤 시드를 고정\n",
        "\n",
        "# input data: batch size (num. samples) = 2, seq_len = 5, input_size (dimension) = 1\n",
        "x = torch.tensor([\n",
        "    [[1.0], [2.0], [3.0], [4.0], [5.0]],      # sample 1\n",
        "    [[6.0], [7.0], [8.0], [9.0], [10.0]]      # sample 2\n",
        "])  # shape: (2, 5, 1)\n",
        "# 2개의 샘플, 각 샘플은 길이 5의 시계열로 구성되어 있음\n",
        "# 각 시점의 feature는 1개 → x.shape = (2, 5, 1)"
      ]
    },
    {
      "cell_type": "code",
      "execution_count": null,
      "metadata": {
        "colab": {
          "base_uri": "https://localhost:8080/"
        },
        "id": "Tth0HjlfGA_n",
        "outputId": "54c0fd77-8921-4d6c-8d9d-ab76f785c0c3"
      },
      "outputs": [
        {
          "name": "stdout",
          "output_type": "stream",
          "text": [
            "2 5 1 1\n"
          ]
        }
      ],
      "source": [
        "batch_size, seq_len, input_size = x.shape\n",
        "output_size = 1\n",
        "\n",
        "print(batch_size, seq_len, input_size, output_size)\n",
        "hidden_size = 1 # select hidden size (len(h))\n",
        "\n",
        "# initialize trainable parameters with Normal distribution (N(0,1))\n",
        "W_xh = torch.nn.Parameter(torch.randn(input_size, hidden_size))\n",
        "W_hh = torch.nn.Parameter(torch.randn(hidden_size, hidden_size))\n",
        "b_h = torch.nn.Parameter(torch.randn(hidden_size))\n",
        "\n",
        "\n",
        "W_hy = torch.nn.Parameter(torch.randn(hidden_size, output_size))\n",
        "b_y = torch.nn.Parameter(torch.randn(output_size))\n",
        "# W_xh: 입력 → 은닉, W_hh: 은닉 → 은닉 (순환 연결)\n",
        "# b_h: 은닉 상태의 bias, W_hy: 은닉 → 출력\n",
        "# b_y: 출력 bias\n",
        "\n"
      ]
    },
    {
      "cell_type": "code",
      "execution_count": 129,
      "metadata": {
        "colab": {
          "base_uri": "https://localhost:8080/"
        },
        "id": "LDfkGrrEGCuS",
        "outputId": "3d4bce27-da0a-48aa-c991-2893814cb4b6"
      },
      "outputs": [
        {
          "name": "stdout",
          "output_type": "stream",
          "text": [
            "Parameter containing:\n",
            "tensor([[1.4593]], requires_grad=True)\n",
            "Parameter containing:\n",
            "tensor([[1.3651]], requires_grad=True)\n",
            "Parameter containing:\n",
            "tensor([-0.9279], requires_grad=True)\n",
            "Parameter containing:\n",
            "tensor([[0.4106]], requires_grad=True)\n",
            "Parameter containing:\n",
            "tensor([0.5223], requires_grad=True)\n"
          ]
        }
      ],
      "source": [
        "print(W_xh)\n",
        "print(W_hh)\n",
        "print(b_h)\n",
        "print(W_hy)\n",
        "print(b_y)"
      ]
    },
    {
      "cell_type": "code",
      "execution_count": null,
      "metadata": {
        "colab": {
          "base_uri": "https://localhost:8080/"
        },
        "id": "Zsuz5p2zItoW",
        "outputId": "63f73a98-f695-4c40-95ef-43c3498df12d"
      },
      "outputs": [
        {
          "name": "stdout",
          "output_type": "stream",
          "text": [
            "tensor([[1.],\n",
            "        [6.]])\n"
          ]
        }
      ],
      "source": [
        "#RNN layer\n",
        "h = torch.zeros(batch_size, hidden_size) # h0\n",
        "\n",
        "t=0\n",
        "x_t = x[:, t, :]  # (batch, input_size) # x1\n",
        "print(x_t)\n",
        "h = torch.tanh(x_t @ W_xh + h @ W_hh + b_h)  # h1\n",
        "y_t = h @ W_hy + b_y #y_1 (=x2 if you want to make a next step prediction model)\n",
        "# 시점 t=0에서 은닉 상태 h를 업데이트하고 출력값 y_t 계산"
      ]
    },
    {
      "cell_type": "code",
      "execution_count": null,
      "metadata": {
        "colab": {
          "base_uri": "https://localhost:8080/"
        },
        "id": "zrIm8-fzMO7p",
        "outputId": "9356e292-06b6-42ec-ac56-57239383ee4f"
      },
      "outputs": [
        {
          "name": "stdout",
          "output_type": "stream",
          "text": [
            "tensor([[2.],\n",
            "        [7.]])\n"
          ]
        }
      ],
      "source": [
        "t=1\n",
        "x_t = x[:, t, :] #x2\n",
        "print(x_t)\n",
        "h = torch.tanh(x_t @ W_xh + h @ W_hh + b_h)\n",
        "y_t = h @ W_hy + b_y\n",
        "# 시점 t=1에서도 동일한 방식으로 계산 반복"
      ]
    },
    {
      "cell_type": "code",
      "execution_count": 132,
      "metadata": {
        "id": "Wd9f1TWvGOcs"
      },
      "outputs": [],
      "source": [
        "optimizer = torch.optim.Adam([W_xh, W_hh, b_h, W_hy, b_y], lr=0.01)"
      ]
    },
    {
      "cell_type": "code",
      "execution_count": 133,
      "metadata": {
        "id": "MlTS2p0ZGZlW"
      },
      "outputs": [],
      "source": [
        "loss_fn = torch.nn.MSELoss()"
      ]
    },
    {
      "cell_type": "code",
      "execution_count": null,
      "metadata": {
        "id": "IjFGDKfadpow"
      },
      "outputs": [],
      "source": [
        "y_target = x[:,1:,:] # next step prediction y_t = x_t+1\n",
        "# 출력 y_t는 다음 시점의 입력 x_{t+1}이 되도록 학습\n",
        "# 예: t=0 → x=1 → y=2"
      ]
    },
    {
      "cell_type": "code",
      "execution_count": null,
      "metadata": {
        "colab": {
          "base_uri": "https://localhost:8080/"
        },
        "id": "-mKhq-vIGamS",
        "outputId": "42cd239a-758b-4a12-bdf4-ae27346961c0"
      },
      "outputs": [
        {
          "name": "stdout",
          "output_type": "stream",
          "text": [
            "Epoch 0 | Loss: 33.2401\n",
            "Epoch 200 | Loss: 9.6892\n",
            "Epoch 400 | Loss: 3.0524\n",
            "Epoch 600 | Loss: 1.0645\n",
            "Epoch 800 | Loss: 0.4837\n",
            "Epoch 1000 | Loss: 0.2867\n",
            "Epoch 1200 | Loss: 0.1962\n",
            "Epoch 1400 | Loss: 0.1446\n",
            "Epoch 1600 | Loss: 0.1111\n",
            "Epoch 1800 | Loss: 0.0875\n",
            "Epoch 2000 | Loss: 0.0700\n",
            "Epoch 2200 | Loss: 0.0564\n",
            "Epoch 2400 | Loss: 0.0458\n",
            "Epoch 2600 | Loss: 0.0372\n",
            "Epoch 2800 | Loss: 0.0303\n",
            "Epoch 3000 | Loss: 0.0248\n",
            "Epoch 3200 | Loss: 0.0204\n",
            "Epoch 3400 | Loss: 0.0172\n",
            "Epoch 3600 | Loss: 0.0145\n",
            "Epoch 3800 | Loss: 0.0126\n",
            "Epoch 4000 | Loss: 0.0114\n",
            "Epoch 4200 | Loss: 0.0105\n",
            "Epoch 4400 | Loss: 0.0099\n",
            "Epoch 4600 | Loss: 0.0095\n",
            "Epoch 4800 | Loss: 0.0091\n"
          ]
        }
      ],
      "source": [
        "\n",
        "for epoch in range(5000):\n",
        "    # 각 epoch마다 h를 초기화하고 전체 시퀀스를 순회하면서 y_t를 예측\n",
        "    h = torch.zeros(batch_size, hidden_size)\n",
        "    outputs = []\n",
        "\n",
        "    for t in range(seq_len - 1):  # predict 1 step ahead\n",
        "        x_t = x[:, t, :]  # (batch, input_size)\n",
        "        h = torch.tanh(x_t @ W_xh + h @ W_hh + b_h)\n",
        "        y_t = h @ W_hy + b_y\n",
        "        outputs.append(y_t.unsqueeze(1))\n",
        "\n",
        "    y_pred = torch.cat(outputs, dim=1)  # (batch, seq_len-1, output_size)\n",
        "    loss = loss_fn(y_pred, y_target)\n",
        "    # oss는 MSELoss를 사용하고, 예측한 y_pred와 실제 x_{t+1}과의 차이를 줄이는 방향으로 학습\n",
        "\n",
        "    optimizer.zero_grad()\n",
        "    loss.backward()\n",
        "    optimizer.step()\n",
        "\n",
        "    if epoch % 200 == 0:\n",
        "        print(f\"Epoch {epoch} | Loss: {loss.item():.4f}\")"
      ]
    },
    {
      "cell_type": "code",
      "execution_count": 135,
      "metadata": {
        "colab": {
          "base_uri": "https://localhost:8080/"
        },
        "id": "Vow45H_1LXF9",
        "outputId": "aafd90a2-4465-409d-9181-0ddb28aea0ed"
      },
      "outputs": [
        {
          "data": {
            "text/plain": [
              "tensor([[[2.0117],\n",
              "         [3.1029],\n",
              "         [3.9099],\n",
              "         [4.9106]],\n",
              "\n",
              "        [[7.0098],\n",
              "         [8.1354],\n",
              "         [9.0577],\n",
              "         [9.8524]]], grad_fn=<CatBackward0>)"
            ]
          },
          "execution_count": 135,
          "metadata": {},
          "output_type": "execute_result"
        }
      ],
      "source": [
        "y_pred # RNN output"
      ]
    },
    {
      "cell_type": "code",
      "execution_count": 136,
      "metadata": {
        "colab": {
          "base_uri": "https://localhost:8080/"
        },
        "id": "4x7-xjXsLYl1",
        "outputId": "3307041b-b8b8-42db-9ccc-99de7eedbb79"
      },
      "outputs": [
        {
          "data": {
            "text/plain": [
              "tensor([[[ 2.],\n",
              "         [ 3.],\n",
              "         [ 4.],\n",
              "         [ 5.]],\n",
              "\n",
              "        [[ 7.],\n",
              "         [ 8.],\n",
              "         [ 9.],\n",
              "         [10.]]])"
            ]
          },
          "execution_count": 136,
          "metadata": {},
          "output_type": "execute_result"
        }
      ],
      "source": [
        "y_target #true x_t+1"
      ]
    },
    {
      "cell_type": "code",
      "execution_count": 137,
      "metadata": {
        "id": "rKVY_5dVJh6P"
      },
      "outputs": [],
      "source": [
        "#What if we get new sample?"
      ]
    },
    {
      "cell_type": "code",
      "execution_count": null,
      "metadata": {
        "id": "p-SjS0uVJHa5"
      },
      "outputs": [],
      "source": [
        "x_new = torch.tensor([[[3.0], [4.0], [5.0], [6.0], [7.0]]])\n",
        "# 새로운 입력 데이터 하나를 넣고, 학습된 모델이 x_t+1을 어떻게 예측하는지 출력"
      ]
    },
    {
      "cell_type": "code",
      "execution_count": 139,
      "metadata": {
        "colab": {
          "base_uri": "https://localhost:8080/"
        },
        "id": "5JcJnjnHJPVb",
        "outputId": "5cd2bd8d-ef32-46a8-b053-b2d162b0c5c5"
      },
      "outputs": [
        {
          "data": {
            "text/plain": [
              "torch.Size([1, 5, 1])"
            ]
          },
          "execution_count": 139,
          "metadata": {},
          "output_type": "execute_result"
        }
      ],
      "source": [
        "x_new.size()"
      ]
    },
    {
      "cell_type": "code",
      "execution_count": null,
      "metadata": {
        "colab": {
          "base_uri": "https://localhost:8080/"
        },
        "id": "vCMKh2FJJQA_",
        "outputId": "39999428-79f9-41e6-a60f-6acbc87d3422"
      },
      "outputs": [
        {
          "name": "stdout",
          "output_type": "stream",
          "text": [
            "tensor([[3.]])\n",
            "tensor([[[3.4610]]], grad_fn=<UnsqueezeBackward0>)\n",
            "tensor([[4.]])\n",
            "tensor([[[4.9852]]], grad_fn=<UnsqueezeBackward0>)\n",
            "tensor([[5.]])\n",
            "tensor([[[5.9748]]], grad_fn=<UnsqueezeBackward0>)\n",
            "tensor([[6.]])\n",
            "tensor([[[7.0844]]], grad_fn=<UnsqueezeBackward0>)\n"
          ]
        }
      ],
      "source": [
        "h = torch.zeros(x_new.size()[0], hidden_size)\n",
        "for t in range(seq_len-1):\n",
        "  x_t = x_new[:, t, :]  # (batch, input_size)\n",
        "  print(x_t)\n",
        "  h = torch.tanh(x_t @ W_xh + h @ W_hh + b_h)  # (batch, hidden)\n",
        "  y_t = h @ W_hy + b_y\n",
        "  print(y_t.unsqueeze(1))\n",
        "  # 이때도 학습된 파라미터를 그대로 사용해 시퀀스를 따라가며 예측값 출력"
      ]
    },
    {
      "cell_type": "code",
      "execution_count": 141,
      "metadata": {
        "id": "9OYIfP7cJYVU"
      },
      "outputs": [],
      "source": [
        "##RNN with smaller number of sequence legnth? (Sliding Window, Rolling Window)"
      ]
    },
    {
      "cell_type": "code",
      "execution_count": 147,
      "metadata": {
        "id": "14LKBnKKZqCC"
      },
      "outputs": [],
      "source": [
        "# input data: batch size (num. samples) = 2, seq_len = 5, input_size (dimension) = 1\n",
        "x = torch.tensor([\n",
        "    [[1.0], [2.0], [3.0], [4.0], [5.0]],      # sample 1\n",
        "    [[6.0], [7.0], [8.0], [9.0], [10.0]]      # sample 2\n",
        "])  # shape: (2, 5, 1)"
      ]
    },
    {
      "cell_type": "code",
      "execution_count": null,
      "metadata": {
        "id": "jI5pRrIRaKF4"
      },
      "outputs": [],
      "source": [
        "window_size = 3\n",
        "\n",
        "# 슬라이딩 윈도우로 시퀀스 분할\n",
        "sequences = []\n",
        "for j in range(len(x)):\n",
        "  for i in range(len(x[0]) - window_size + 1):\n",
        "      window = x[j][i:i + window_size] #sample idx * [window len]\n",
        "      sequences.append(window)\n",
        "# 슬라이딩 윈도우로 시계열을 분할해 짧은 길이의 시퀀스로 만들어줌\n",
        "# 예: [1,2,3,4,5] → [1,2,3], [2,3,4], [3,4,5]\n",
        "\n",
        "x_small = torch.stack(sequences)\n",
        "# 결과 x_small의 shape: (샘플 수, 3, 1)"
      ]
    },
    {
      "cell_type": "code",
      "execution_count": 163,
      "metadata": {
        "colab": {
          "base_uri": "https://localhost:8080/"
        },
        "id": "HkNTHJQhaRao",
        "outputId": "3772d4c2-0fa7-468c-85f7-ae0bf1412ebb"
      },
      "outputs": [
        {
          "data": {
            "text/plain": [
              "torch.Size([6, 3, 1])"
            ]
          },
          "execution_count": 163,
          "metadata": {},
          "output_type": "execute_result"
        }
      ],
      "source": [
        "x_small.size()"
      ]
    },
    {
      "cell_type": "code",
      "execution_count": 165,
      "metadata": {
        "colab": {
          "base_uri": "https://localhost:8080/"
        },
        "id": "kuZGMWFaaVrP",
        "outputId": "5edcfbfd-6d49-4902-fe72-60ba76103533"
      },
      "outputs": [
        {
          "data": {
            "text/plain": [
              "tensor([[[ 1.],\n",
              "         [ 2.],\n",
              "         [ 3.]],\n",
              "\n",
              "        [[ 2.],\n",
              "         [ 3.],\n",
              "         [ 4.]],\n",
              "\n",
              "        [[ 3.],\n",
              "         [ 4.],\n",
              "         [ 5.]],\n",
              "\n",
              "        [[ 6.],\n",
              "         [ 7.],\n",
              "         [ 8.]],\n",
              "\n",
              "        [[ 7.],\n",
              "         [ 8.],\n",
              "         [ 9.]],\n",
              "\n",
              "        [[ 8.],\n",
              "         [ 9.],\n",
              "         [10.]]])"
            ]
          },
          "execution_count": 165,
          "metadata": {},
          "output_type": "execute_result"
        }
      ],
      "source": [
        "x_small"
      ]
    },
    {
      "cell_type": "code",
      "execution_count": null,
      "metadata": {
        "id": "lh8CG071deKn"
      },
      "outputs": [],
      "source": []
    }
  ],
  "metadata": {
    "colab": {
      "provenance": []
    },
    "kernelspec": {
      "display_name": "Python 3",
      "name": "python3"
    },
    "language_info": {
      "name": "python"
    }
  },
  "nbformat": 4,
  "nbformat_minor": 0
}
