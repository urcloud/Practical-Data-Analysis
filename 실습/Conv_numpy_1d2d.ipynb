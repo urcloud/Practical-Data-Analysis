{
  "cells": [
    {
      "cell_type": "code",
      "execution_count": null,
      "metadata": {
        "id": "rwF9lMSZONEM"
      },
      "outputs": [],
      "source": [
        "import numpy as np\n",
        "# 수치 계산 및 배열 처리에 사용"
      ]
    },
    {
      "cell_type": "code",
      "execution_count": null,
      "metadata": {
        "id": "emwS8HFaARyh"
      },
      "outputs": [],
      "source": [
        "# 1D Sequence\n",
        "# 1D 입력 시퀀스 정의. 값이 선형적으로 증가하는 배열\n",
        "x = np.array([1, 2, 3, 4, 5, 6, 7, 8, 9])\n",
        "\n",
        "# simple finite difference filter (meaning?)\n",
        "# 1차 미분에 해당하는 finite difference 필터로, 경사도(변화량)를 측정하는 데 사용됨\n",
        "w = np.array([-1, 0, 1])"
      ]
    },
    {
      "cell_type": "code",
      "execution_count": null,
      "metadata": {
        "id": "wTeVihAPqNHE"
      },
      "outputs": [],
      "source": [
        "def conv1d(x, w):\n",
        "    # 1D 컨볼루션 함수 정의\n",
        "    # 슬라이딩 윈도우 방식으로 x에 w를 곱해 합산\n",
        "    # 출력 길이는 n_x - n_w + 1\n",
        "    n_x = len(x)\n",
        "    n_w = len(w)\n",
        "    n_out = n_x - n_w + 1\n",
        "\n",
        "    output = np.zeros(n_out)\n",
        "\n",
        "    for i in range(n_out):\n",
        "        segment = x[i:i+n_w]\n",
        "        output[i] = np.sum(segment * w)\n",
        "\n",
        "    return output"
      ]
    },
    {
      "cell_type": "code",
      "execution_count": null,
      "metadata": {
        "id": "3Ao7lEyX_28B"
      },
      "outputs": [],
      "source": [
        "y = conv1d(x, w) # Can you guess the meaning of output?\n",
        "# x에 대해 필터 w를 적용한 결과를 출력\n",
        "print(\"Output:\", y)\n",
        "# 이 결과는 x의 기울기 (변화량)을 나타냄"
      ]
    },
    {
      "cell_type": "code",
      "execution_count": null,
      "metadata": {
        "id": "VPppCisz_9gN"
      },
      "outputs": [],
      "source": [
        "conv1d(y,w)\n",
        "# 두 번 필터를 적용하면 2차 미분, 즉 곡률(커브)를 측정하게 됨"
      ]
    },
    {
      "cell_type": "code",
      "execution_count": null,
      "metadata": {
        "id": "6uWIgbIiADqt"
      },
      "outputs": [],
      "source": [
        "# 1D Sequence with noise\n",
        "# 랜덤 시드 고정 (재현 가능하게 하기 위함)\n",
        "# 노이즈가 있는 1D 시퀀스를 생성\n",
        "np.random.seed(1)\n",
        "x = np.array([-5,-4,-3,-2,0,1, 2, 3, 4, 5, 6, 7, 8, 9,10,11,12])\n",
        "x = x + np.random.randn(len(x))\n",
        "# simple finite difference filter (meaning?)\n",
        "w = np.array([1/5, 1/5, 1/5,1/5,1/5])\n",
        "# 평균 필터 (moving average): 길이 5의 박스 필터"
      ]
    },
    {
      "cell_type": "code",
      "execution_count": null,
      "metadata": {
        "id": "zEk0-lVYAanD"
      },
      "outputs": [],
      "source": [
        "x"
      ]
    },
    {
      "cell_type": "code",
      "execution_count": null,
      "metadata": {
        "id": "kRpoS2MhAffu"
      },
      "outputs": [],
      "source": [
        "y = conv1d(x, w) # Can you guess the meaning of output?\n",
        "print(\"Output:\", y)\n",
        "# 노이즈가 포함된 x에 평균 필터를 적용해서 스무딩(denoise) 처리"
      ]
    },
    {
      "cell_type": "code",
      "execution_count": null,
      "metadata": {
        "id": "BTi059ZAAi2_"
      },
      "outputs": [],
      "source": [
        "plt.plot(np.linspace(0,len(x),len(x)), x, label='x')\n",
        "plt.plot(np.linspace(2,len(x)-len(w)+1+2,len(x)-len(w)+1), y, label='y')\n",
        "plt.legend()\n",
        "# 원본 시퀀스(x)와 필터링된 시퀀스(y)를 시각화\n",
        "# x축 보정: 평균 필터의 중심이 원래 시퀀스에서 약간 뒤로 밀리기 때문"
      ]
    },
    {
      "cell_type": "code",
      "execution_count": null,
      "metadata": {
        "id": "P1kGAsyDAo9S"
      },
      "outputs": [],
      "source": [
        "# 2D (image) dataset\n",
        "# 간단한 5x5 이미지 데이터\n",
        "x = np.array([\n",
        "    [1, 2, 3, 0, 1],\n",
        "    [0, 1, 2, 3, 1],\n",
        "    [1, 0, 1, 2, 0],\n",
        "    [2, 1, 0, 1, 3],\n",
        "    [0, 1, 2, 1, 0]\n",
        "])\n",
        "\n",
        "# 3x3 filter (Sobel operator)\n",
        "# Sobel 필터 (수평 경계 검출 필터)\n",
        "k = np.array([\n",
        "    [-1, 0, 1],\n",
        "    [-2, 0, 2],\n",
        "    [-1, 0, 1]\n",
        "])"
      ]
    },
    {
      "cell_type": "markdown",
      "metadata": {
        "id": "dvy0ypf6CW8X"
      },
      "source": [
        "cf) Sobel operator for edge detection https://en.wikipedia.org/wiki/Sobel_operator"
      ]
    },
    {
      "cell_type": "code",
      "execution_count": null,
      "metadata": {
        "id": "Uh8kYagOB6rp"
      },
      "outputs": [],
      "source": [
        "def conv2d(x, k):\n",
        "    # 2D 컨볼루션 함수\n",
        "    # 입력 이미지 x와 필터 k를 받아서, 슬라이딩 윈도우 방식으로 region과 필터를 곱한 뒤 합산\n",
        "    h_img, w_img = x.shape\n",
        "    h_ker, w_ker = k.shape\n",
        "\n",
        "    h_out = h_img - h_ker + 1\n",
        "    w_out = w_img - w_ker + 1\n",
        "\n",
        "    output = np.zeros((h_out, w_out))\n",
        "\n",
        "    for i in range(h_out):\n",
        "        for j in range(w_out):\n",
        "            region = x[i:i+h_ker, j:j+w_ker]\n",
        "            output[i, j] = np.sum(region * k)\n",
        "\n",
        "    return output"
      ]
    },
    {
      "cell_type": "code",
      "execution_count": null,
      "metadata": {
        "id": "jN9YupyzCiHh"
      },
      "outputs": [],
      "source": [
        "output = conv2d(x, k)\n",
        "print(\"x:\")\n",
        "print(x)\n",
        "print(\"Convolution output:\")\n",
        "print(output)\n",
        "# 2D 필터링 결과 출력 (경계 정보가 강조)"
      ]
    },
    {
      "cell_type": "code",
      "execution_count": null,
      "metadata": {
        "id": "S31_shOYCkR8"
      },
      "outputs": [],
      "source": [
        "from PIL import Image\n",
        "from io import BytesIO\n",
        "# 이미지를 불러오기 위한 라이브러리"
      ]
    },
    {
      "cell_type": "markdown",
      "metadata": {
        "id": "VEsNybrtEIe6"
      },
      "source": [
        "download image from https://upload.wikimedia.org/wikipedia/commons/f/f0/Valve_original_%281%29.PNG"
      ]
    },
    {
      "cell_type": "code",
      "execution_count": null,
      "metadata": {
        "id": "I8TuaTVeDVVK"
      },
      "outputs": [],
      "source": [
        "url = \"https://raw.githubusercontent.com/mdipietro09/sample-images/main/lena_gray_256.png\""
      ]
    },
    {
      "cell_type": "code",
      "execution_count": null,
      "metadata": {
        "id": "bYCXtwx9DWv8"
      },
      "outputs": [],
      "source": [
        "img = Image.open(\"Valve_original_(1).png\").convert('L') #gray scale\n",
        "# 이미지 파일을 흑백(grayscale)으로 변환하여 열기"
      ]
    },
    {
      "cell_type": "code",
      "execution_count": null,
      "metadata": {
        "id": "p2I2RG3cDYg2"
      },
      "outputs": [],
      "source": [
        "img"
      ]
    },
    {
      "cell_type": "code",
      "execution_count": null,
      "metadata": {
        "id": "tAZt4ybHETpK"
      },
      "outputs": [],
      "source": [
        "img_np = np.array(img)\n",
        "# 이미지를 numpy 배열로 변환 (2D 배열 형태)"
      ]
    },
    {
      "cell_type": "code",
      "execution_count": null,
      "metadata": {
        "id": "iBkXCS9-FJZ2"
      },
      "outputs": [],
      "source": [
        "img_np.shape"
      ]
    },
    {
      "cell_type": "code",
      "execution_count": null,
      "metadata": {
        "id": "KbGTtkFpEW9o"
      },
      "outputs": [],
      "source": [
        "img_np"
      ]
    },
    {
      "cell_type": "code",
      "execution_count": null,
      "metadata": {
        "id": "6McpQ07YEXyi"
      },
      "outputs": [],
      "source": [
        "img_filter = conv2d(img_np,k)"
      ]
    },
    {
      "cell_type": "code",
      "execution_count": null,
      "metadata": {
        "id": "zlgs0LAbEpoq"
      },
      "outputs": [],
      "source": [
        "plt.imshow(img_filter, cmap='gray')\n",
        "# Sobel 필터를 흑백 이미지에 적용한 결과 시각화"
      ]
    },
    {
      "cell_type": "code",
      "execution_count": null,
      "metadata": {
        "id": "7YDeW0dREyHc"
      },
      "outputs": [],
      "source": [
        "img = Image.open(\"Valve_original_(1).png\")"
      ]
    },
    {
      "cell_type": "code",
      "execution_count": null,
      "metadata": {
        "id": "DRvX7OTNE6Wm"
      },
      "outputs": [],
      "source": [
        "img"
      ]
    },
    {
      "cell_type": "code",
      "execution_count": null,
      "metadata": {
        "id": "8HvmZQhCE9V4"
      },
      "outputs": [],
      "source": [
        "img_np = np.array(img)\n",
        "# 원본 이미지를 컬러(RGB)로 불러와 배열로 변환"
      ]
    },
    {
      "cell_type": "code",
      "execution_count": null,
      "metadata": {
        "id": "eCKywIkJFGbu"
      },
      "outputs": [],
      "source": [
        "img_np.shape"
      ]
    },
    {
      "cell_type": "code",
      "execution_count": null,
      "metadata": {
        "id": "KB5ddWGdF5Re"
      },
      "outputs": [],
      "source": [
        "img_np[:,:,0]\n",
        "# R (Red) 채널 추출"
      ]
    },
    {
      "cell_type": "code",
      "execution_count": null,
      "metadata": {
        "id": "yHIUkPgnFHG_"
      },
      "outputs": [],
      "source": [
        "# 3x3 filter (Sobel operator)\n",
        "# 다시 Sobel 필터 정의 (수평 경계 검출)\n",
        "k = np.array([\n",
        "    [-1, 0, 1],\n",
        "    [-2, 0, 2],\n",
        "    [-1, 0, 1]\n",
        "])"
      ]
    },
    {
      "cell_type": "code",
      "execution_count": null,
      "metadata": {
        "id": "blSYMWJwFlex"
      },
      "outputs": [],
      "source": [
        "img_r = conv2d(img_np[:,:,0],k)"
      ]
    },
    {
      "cell_type": "code",
      "execution_count": null,
      "metadata": {
        "id": "-1HYtkiXFtmZ"
      },
      "outputs": [],
      "source": [
        "img_r.shape"
      ]
    },
    {
      "cell_type": "code",
      "execution_count": null,
      "metadata": {
        "id": "PCRd7UvmGHfK"
      },
      "outputs": [],
      "source": [
        "img_g = conv2d(img_np[:,:,1],k)\n",
        "img_b = conv2d(img_np[:,:,2],k)\n",
        "# 각 RGB 채널에 대해 Sobel 필터 적용"
      ]
    },
    {
      "cell_type": "code",
      "execution_count": null,
      "metadata": {
        "id": "5Ta-Q3XTGOhs"
      },
      "outputs": [],
      "source": [
        "img_filter = np.stack((img_r,img_g,img_b),axis=2)\n",
        "# 각 채널의 결과를 하나의 3D 배열로 합침 (컬러 형태 유지)"
      ]
    },
    {
      "cell_type": "code",
      "execution_count": null,
      "metadata": {
        "id": "wBDQyQnaGR5w"
      },
      "outputs": [],
      "source": [
        "plt.imshow(np.clip(img_filter / 255.0, 0, 1))  # normalize + RGB\n",
        "# 필터링 결과를 시각화"
      ]
    },
    {
      "cell_type": "code",
      "execution_count": null,
      "metadata": {
        "id": "KnwwWZBjGS8r"
      },
      "outputs": [],
      "source": []
    }
  ],
  "metadata": {
    "colab": {
      "provenance": []
    },
    "kernelspec": {
      "display_name": "Python 3",
      "name": "python3"
    },
    "language_info": {
      "name": "python"
    }
  },
  "nbformat": 4,
  "nbformat_minor": 0
}
