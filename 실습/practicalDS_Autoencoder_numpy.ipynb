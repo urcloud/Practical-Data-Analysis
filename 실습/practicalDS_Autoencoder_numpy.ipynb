{
  "nbformat": 4,
  "nbformat_minor": 0,
  "metadata": {
    "colab": {
      "provenance": []
    },
    "kernelspec": {
      "name": "python3",
      "display_name": "Python 3"
    },
    "language_info": {
      "name": "python"
    }
  },
  "cells": [
    {
      "cell_type": "code",
      "execution_count": null,
      "metadata": {
        "id": "HTXKTF_NCv9b"
      },
      "outputs": [],
      "source": [
        "import numpy as np"
      ]
    },
    {
      "cell_type": "code",
      "source": [
        "def act(x): #activation function\n",
        "    return np.tanh(x)\n",
        "\n",
        "def dact(x): #derivative of activation... d\\sigma/dx\n",
        "    return 1 - np.tanh(x)**2"
      ],
      "metadata": {
        "id": "qSjES5Eut1T6"
      },
      "execution_count": null,
      "outputs": []
    },
    {
      "cell_type": "code",
      "source": [
        "# Data generation\n",
        "n = 100 #number of samples\n",
        "np.random.seed(0)\n",
        "X_tmp = np.random.randn(n,3)\n",
        "X = np.zeros(shape=(n,5))\n",
        "X[:,0] = X_tmp[:,0]\n",
        "X[:,2] = X_tmp[:,1]\n",
        "X[:,4] = X_tmp[:,2]\n",
        "\n",
        "print(X[:4])"
      ],
      "metadata": {
        "id": "J-gwzOYPDu6o"
      },
      "execution_count": null,
      "outputs": []
    },
    {
      "cell_type": "code",
      "source": [
        "X = X - np.mean(X, axis=0)  # mean centering\n",
        "\n",
        "print(X[:4])"
      ],
      "metadata": {
        "id": "gHjWxMymERoa"
      },
      "execution_count": null,
      "outputs": []
    },
    {
      "cell_type": "code",
      "source": [
        "np.random.seed(0)\n",
        "\n",
        "# 하이퍼파라미터\n",
        "# 차원 정의\n",
        "d0, d1 = X.shape[1], 4 #\n",
        "\n",
        "d2, d3 = 3, 4  # layer sizes\n",
        "\n",
        "# Initialize weights\n",
        "W1 = np.random.randn(d1, d0)  # 5 -> 4\n",
        "W2 = np.random.randn(d2, d1) # 4 -> 3\n",
        "W3 = np.random.randn(d3, d2) # 3 -> 4\n",
        "W4 = np.random.randn(d0, d3) # 4 -> 5"
      ],
      "metadata": {
        "id": "fhTAp3Awu_VW"
      },
      "execution_count": null,
      "outputs": []
    },
    {
      "cell_type": "code",
      "source": [
        "  # FORWARD\n",
        "  a1 = X @ W1.T\n",
        "  h1 = act(a1)\n",
        "\n",
        "  a2 = h1 @ W2.T\n",
        "  h2 = act(a2)         # latent\n",
        "\n",
        "  a3 = h2 @ W3.T\n",
        "  h3 = act(a3)\n",
        "\n",
        "  X_hat = h3 @ W4.T   # reconstruction"
      ],
      "metadata": {
        "id": "c-Ut8O4vfoTt"
      },
      "execution_count": null,
      "outputs": []
    },
    {
      "cell_type": "code",
      "source": [
        "a1.shape"
      ],
      "metadata": {
        "id": "AR-PxTKSuV8p"
      },
      "execution_count": null,
      "outputs": []
    },
    {
      "cell_type": "code",
      "source": [
        "X_hat[:4]"
      ],
      "metadata": {
        "id": "asU8fPRjukG1"
      },
      "execution_count": null,
      "outputs": []
    },
    {
      "cell_type": "code",
      "source": [
        "lr = 0.001\n",
        "epochs = 100000"
      ],
      "metadata": {
        "id": "Sp9U7F6JF8yu"
      },
      "execution_count": null,
      "outputs": []
    },
    {
      "cell_type": "code",
      "source": [
        "losses = []\n",
        "\n",
        "for epoch in range(epochs):\n",
        "    # FORWARD\n",
        "    a1 = X @ W1.T                 # (n, 4)\n",
        "    h1 = act(a1)\n",
        "\n",
        "    a2 = h1 @ W2.T               # (n, 3)\n",
        "    z = act(a2)         # latent variable\n",
        "\n",
        "    a3 = z @ W3.T              # (n, 4)\n",
        "    h3 = act(a3)\n",
        "\n",
        "    X_hat = h3 @ W4.T           # (n, 5) reconstruction\n",
        "\n",
        "    # LOSS\n",
        "    loss = np.mean((X - X_hat) ** 2)\n",
        "    losses.append(loss)\n",
        "\n",
        "    # BACKWARD (Chain rule via computaional graph)\n",
        "    dX_hat = 2 * (X_hat - X) / n\n",
        "\n",
        "    dW4 = h3.T @ dX_hat\n",
        "    dh3 = dX_hat @ W4\n",
        "    da3 = dh3 * dact(a3)\n",
        "\n",
        "    dW3 = z.T @ da3\n",
        "    dz = da3 @ W3\n",
        "    da2 = dz * dact(a2)\n",
        "\n",
        "    dW2 = h1.T @ da2\n",
        "    dh1 = da2 @ W2\n",
        "    da1 = dh1 * dact(a1)\n",
        "\n",
        "    dW1 = X.T @ da1\n",
        "\n",
        "    # UPDATE\n",
        "    W4 -= lr * dW4.T\n",
        "    W3 -= lr * dW3.T\n",
        "    W2 -= lr * dW2.T\n",
        "    W1 -= lr * dW1.T\n",
        "\n",
        "    if epoch % 10000 == 0:\n",
        "        print(f\"Epoch {epoch}: Loss = {loss:.6f}\")"
      ],
      "metadata": {
        "id": "NSY02lpQF0s_"
      },
      "execution_count": null,
      "outputs": []
    },
    {
      "cell_type": "code",
      "source": [
        "a1 = X @ W1.T                 # (n, 4)\n",
        "h1 = act(a1)\n",
        "\n",
        "a2 = h1 @ W2.T               # (n, 3)\n",
        "z = act(a2)\n",
        "\n",
        "a3 = z @ W3.T              # (n, 4)\n",
        "h3 = act(a3)\n",
        "\n",
        "X_hat = h3 @ W4.T"
      ],
      "metadata": {
        "id": "e5zaWkbCHsbJ"
      },
      "execution_count": null,
      "outputs": []
    },
    {
      "cell_type": "code",
      "source": [
        "print(z[:4])"
      ],
      "metadata": {
        "id": "OX97ErBJRriL"
      },
      "execution_count": null,
      "outputs": []
    },
    {
      "cell_type": "code",
      "source": [
        "print(np.round(X_hat[:4],2))"
      ],
      "metadata": {
        "id": "vXoBWkByRsOC"
      },
      "execution_count": null,
      "outputs": []
    },
    {
      "cell_type": "code",
      "source": [
        "print(X[:4])"
      ],
      "metadata": {
        "id": "jzwSbWNjRtp5"
      },
      "execution_count": null,
      "outputs": []
    },
    {
      "cell_type": "code",
      "source": [],
      "metadata": {
        "id": "mT__gIadR0Ux"
      },
      "execution_count": null,
      "outputs": []
    }
  ]
}