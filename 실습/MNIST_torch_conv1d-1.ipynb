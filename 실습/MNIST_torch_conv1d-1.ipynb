{
  "cells": [
    {
      "cell_type": "code",
      "execution_count": null,
      "metadata": {
        "id": "rwF9lMSZONEM"
      },
      "outputs": [],
      "source": [
        "import numpy as np\n",
        "import pandas as pd\n",
        "import matplotlib.pyplot as plt\n",
        "\n",
        "import torch\n",
        "# 모델, 텐서 연산\n",
        "import torch.nn as nn\n",
        "import torch.optim as optim\n",
        "\n",
        "from tqdm.notebook import tqdm_notebook\n",
        "# 학습 진행상황 표시용"
      ]
    },
    {
      "cell_type": "code",
      "execution_count": null,
      "metadata": {
        "id": "xjSwEQVAS0af"
      },
      "outputs": [],
      "source": [
        "from google.colab import drive\n",
        "# Google Drive에서 데이터 불러오기\n",
        "drive.mount('/content/drive')\n",
        "# Google Drive를 Colab에 마운트해서 파일 접근 가능하게 함"
      ]
    },
    {
      "cell_type": "code",
      "execution_count": null,
      "metadata": {
        "id": "Kh9GHyY4T9bj"
      },
      "outputs": [],
      "source": [
        "def show(img): ##visualize your image\n",
        "    plt.imshow(img[1:].reshape(28, 28), cmap='gray')\n",
        "    plt.show()\n",
        "    # 1번째 값(레이블)을 제외한 나머지를 28x28로 reshape해서 흑백 이미지로 출력하는 함수"
      ]
    },
    {
      "cell_type": "code",
      "execution_count": null,
      "metadata": {
        "id": "L0B32nbUS2D5"
      },
      "outputs": [],
      "source": [
        "df=pd.read_csv('/content/drive/MyDrive/mnist_train.csv')\n",
        "pxl = [\"pxl{}\".format(i) for i in range(len(df.columns)-1)]\n",
        "df.columns = [\"value\"] + pxl\n",
        "#df.rename(columns = {\"5\":\"value\"}, inplace = True)\n",
        "# MNIST 학습 데이터를 CSV 파일에서 읽고, 컬럼명 정리"
      ]
    },
    {
      "cell_type": "code",
      "execution_count": null,
      "metadata": {
        "id": "_y6XUPWzTIAA"
      },
      "outputs": [],
      "source": [
        "df.head(10)"
      ]
    },
    {
      "cell_type": "code",
      "execution_count": null,
      "metadata": {
        "id": "eC40R54VUPeW"
      },
      "outputs": [],
      "source": [
        "show(df.iloc[3].values) #visualize 3rd dataset (hand writing image)\n",
        "# 데이터 일부 확인 및 4번째 손글씨 이미지 출력"
      ]
    },
    {
      "cell_type": "code",
      "execution_count": null,
      "metadata": {
        "id": "dVNYjM0aURjM"
      },
      "outputs": [],
      "source": [
        "A = pd.DataFrame(df, columns = pxl).values\n",
        "y_data = pd.DataFrame(df, columns = [\"value\"]).values\n",
        "# 입력 이미지 (A)와 정답 레이블 (y_data) 분리"
      ]
    },
    {
      "cell_type": "code",
      "execution_count": null,
      "metadata": {
        "id": "ZGkeSvHuEaJx"
      },
      "outputs": [],
      "source": [
        "A.shape"
      ]
    },
    {
      "cell_type": "code",
      "execution_count": null,
      "metadata": {
        "id": "Lt1j-hY6jwEd"
      },
      "outputs": [],
      "source": [
        "def digit_to_vec(value):\n",
        "  vec = np.zeros(shape = 10)\n",
        "  vec[value] = 1\n",
        "  return vec\n",
        "# 정답 숫자(label)를 0~9 원-핫 벡터로 변환"
      ]
    },
    {
      "cell_type": "code",
      "execution_count": null,
      "metadata": {
        "id": "AqKndqzoUgnS"
      },
      "outputs": [],
      "source": [
        "y_data_vec = [digit_to_vec(y_data[k]) for k in range(len(y_data))]\n",
        "B = np.array(y_data_vec)\n",
        "# 전체 정답 레이블을 원-핫 인코딩된 배열로 변환 → B"
      ]
    },
    {
      "cell_type": "code",
      "execution_count": null,
      "metadata": {
        "id": "2t7m-VIHEnNq"
      },
      "outputs": [],
      "source": [
        "B"
      ]
    },
    {
      "cell_type": "code",
      "execution_count": null,
      "metadata": {
        "id": "hvmomRC7mKyv"
      },
      "outputs": [],
      "source": [
        "x = torch.tensor(A, dtype=torch.float32)\n",
        "y = torch.tensor(B, dtype=torch.float32)\n",
        "x = x.unsqueeze(1) #new dimension at 1st comp.\n",
        "y = y.unsqueeze(1) #new dimension at 1st comp.\n",
        "# 데이터를 float32 타입 PyTorch 텐서로 변환\n",
        "# CNN 입력을 위해 (batch_size, 1, 784) 형태로 차원 추가"
      ]
    },
    {
      "cell_type": "code",
      "execution_count": null,
      "metadata": {
        "id": "-wS93eCGrudR"
      },
      "outputs": [],
      "source": [
        "x.shape"
      ]
    },
    {
      "cell_type": "code",
      "execution_count": null,
      "metadata": {
        "id": "qXtBzpzOsbgw"
      },
      "outputs": [],
      "source": [
        "x[0].shape"
      ]
    },
    {
      "cell_type": "code",
      "execution_count": null,
      "metadata": {
        "id": "KgLXzm57sfjc"
      },
      "outputs": [],
      "source": [
        "conv = nn.Conv1d(in_channels=1, out_channels=2, kernel_size=3)"
      ]
    },
    {
      "cell_type": "code",
      "execution_count": null,
      "metadata": {
        "id": "iEAjCWZ-s4jX"
      },
      "outputs": [],
      "source": [
        "list(conv.parameters())"
      ]
    },
    {
      "cell_type": "code",
      "execution_count": null,
      "metadata": {
        "id": "I_h99RW4soeH"
      },
      "outputs": [],
      "source": [
        "conv(x[0]).shape\n",
        "# 간단한 Conv1d 레이어 정의 후 x[0]에 적용해 출력 shape 확인"
      ]
    },
    {
      "cell_type": "code",
      "execution_count": null,
      "metadata": {
        "id": "MTswCQcnuSd4"
      },
      "outputs": [],
      "source": [
        "conv = nn.Conv1d(in_channels=1, out_channels=1, kernel_size=3)"
      ]
    },
    {
      "cell_type": "code",
      "execution_count": null,
      "metadata": {
        "id": "yX9J8tzKtntU"
      },
      "outputs": [],
      "source": [
        "x1 = conv(x[0])\n",
        "# 채널 수 1인 Convolution 적용"
      ]
    },
    {
      "cell_type": "code",
      "execution_count": null,
      "metadata": {
        "id": "Z7E82uxKuUrn"
      },
      "outputs": [],
      "source": [
        "print(x1.shape)"
      ]
    },
    {
      "cell_type": "code",
      "execution_count": null,
      "metadata": {
        "id": "PoFQZqxzs0VB"
      },
      "outputs": [],
      "source": [
        "pool = nn.MaxPool1d(kernel_size=2)"
      ]
    },
    {
      "cell_type": "code",
      "execution_count": null,
      "metadata": {
        "id": "qAmwQrj0u634"
      },
      "outputs": [],
      "source": [
        "list(pool.parameters())"
      ]
    },
    {
      "cell_type": "code",
      "execution_count": null,
      "metadata": {
        "id": "1hApsQAstphE"
      },
      "outputs": [],
      "source": [
        "pool(x1).shape\n",
        "# Max Pooling을 적용해 차원 줄임"
      ]
    },
    {
      "cell_type": "code",
      "execution_count": null,
      "metadata": {
        "id": "KaMcGUeQt4r9"
      },
      "outputs": [],
      "source": [
        "x2 = pool(x1)\n",
        "print(x2.shape)"
      ]
    },
    {
      "cell_type": "code",
      "execution_count": null,
      "metadata": {
        "id": "ls8dwfWJuew3"
      },
      "outputs": [],
      "source": []
    },
    {
      "cell_type": "code",
      "execution_count": null,
      "metadata": {
        "id": "NrdhhunXla_n"
      },
      "outputs": [],
      "source": [
        "class CNN(nn.Module):\n",
        "    def __init__(self):\n",
        "        super(CNN, self).__init__()\n",
        "        self.conv1 = nn.Conv1d(in_channels=1, out_channels=1, kernel_size=3)\n",
        "        self.conv2 = nn.Conv1d(in_channels=1, out_channels=1, kernel_size=3)\n",
        "        self.conv3 = nn.Conv1d(in_channels=1, out_channels=1, kernel_size=3)\n",
        "\n",
        "        self.linear = nn.Linear(96,10)\n",
        "        self.pool = nn.AvgPool1d(kernel_size=2)\n",
        "\n",
        "        self.softmax = nn.Softmax(dim=2)\n",
        "\n",
        "    def forward(self, x):\n",
        "        #x = self.dropout(x)  # Dropout for input layer\n",
        "        x = self.conv1(x)\n",
        "        x = self.pool(x)\n",
        "        #print(x.shape)\n",
        "\n",
        "        x = self.conv2(x)  # Dropout after first ReLU\n",
        "        x = self.pool(x)\n",
        "        #print(x.shape)\n",
        "\n",
        "        x = self.conv3(x)\n",
        "        x = self.pool(x)\n",
        "        #print(x.shape)\n",
        "\n",
        "        x = self.linear(x)\n",
        "        x = self.softmax(x)\n",
        "        return x\n",
        "    # Conv1d → Pool → Conv1d → Pool → Conv1d → Pool → Linear → Softmax 구조의 CNN 정의"
      ]
    },
    {
      "cell_type": "code",
      "execution_count": null,
      "metadata": {
        "id": "FbntfCejmIgf"
      },
      "outputs": [],
      "source": [
        "model = CNN()"
      ]
    },
    {
      "cell_type": "code",
      "execution_count": null,
      "metadata": {
        "id": "XLejayqZmQGI"
      },
      "outputs": [],
      "source": [
        "model(x[:2])\n",
        "# CNN 모델 객체 생성 후 x[:2]에 대한 예측 실행"
      ]
    },
    {
      "cell_type": "code",
      "execution_count": null,
      "metadata": {
        "id": "vVRtV-y-mQX6"
      },
      "outputs": [],
      "source": [
        "x.shape"
      ]
    },
    {
      "cell_type": "code",
      "execution_count": null,
      "metadata": {
        "id": "rEbS597Fmgen"
      },
      "outputs": [],
      "source": [
        "optimizer = optim.Adam(model.parameters(), lr=1e-2)\n",
        "\n",
        "loss_fn = nn.MSELoss()\n",
        "\n",
        "num_epochs = 1000\n",
        "# Adam 옵티마이저, MSE Loss, 1000 에폭 설정"
      ]
    },
    {
      "cell_type": "code",
      "execution_count": null,
      "metadata": {
        "id": "3T_XwqKrm8CJ"
      },
      "outputs": [],
      "source": [
        "for epoch in tqdm_notebook(range(num_epochs)):\n",
        "    model.train()\n",
        "\n",
        "    # Forward\n",
        "    output = model(x)\n",
        "    loss = loss_fn(output, y)\n",
        "\n",
        "    # Backward\n",
        "    optimizer.zero_grad()\n",
        "    loss.backward()\n",
        "    optimizer.step()\n",
        "    if epoch % 5 == 0:\n",
        "      print(f\"Epoch [{epoch+1}/{num_epochs}] Loss: {loss.item():.4f}\")\n",
        "      # 에폭마다 모델 학습 수행 및 손실 출력"
      ]
    },
    {
      "cell_type": "code",
      "execution_count": null,
      "metadata": {
        "id": "XOkeYAs-Fyjh"
      },
      "outputs": [],
      "source": [
        "model = CNN()  # 동일한 구조의 모델 객체 생성\n",
        "model.load_state_dict(torch.load('model.pth'))\n",
        "model.eval()\n",
        "# 저장된 모델 파라미터 불러오고 평가모드로 전환"
      ]
    },
    {
      "cell_type": "code",
      "execution_count": null,
      "metadata": {
        "id": "rgpsiGe4nUSB"
      },
      "outputs": [],
      "source": [
        "df2=pd.read_csv('/content/drive/MyDrive/mnist_test.csv')\n",
        "pxl = [\"pxl{}\".format(i) for i in range(len(df.columns)-1)]\n",
        "df2.columns = [\"value\"] + pxl\n",
        "# 테스트 데이터 CSV 읽고 컬럼 설정\n",
        "\n",
        "A2 = pd.DataFrame(df2, columns = pxl).values\n",
        "x_test = torch.tensor(A2, dtype=torch.float32).unsqueeze(1)\n",
        "# 입력 데이터 텐서로 변환하고 차원 추가\n",
        "\n",
        "y_data2 = pd.DataFrame(df2, columns = [\"value\"]).values\n",
        "y_data2 = y_data2.reshape(-1)\n",
        "# 테스트 레이블 추출 및 1차원으로 변형"
      ]
    },
    {
      "cell_type": "code",
      "execution_count": null,
      "metadata": {
        "id": "oTk4TT_Sp4Em"
      },
      "outputs": [],
      "source": [
        "model.eval()\n",
        "y_pred = model(x_test).squeeze(1).detach().cpu().numpy()\n",
        "y_pred = np.argmax(y_pred,axis=1)\n",
        "# 모델 예측 결과를 NumPy로 변환하고 softmax 결과에서 가장 큰 인덱스를 예측 숫자로 사용"
      ]
    },
    {
      "cell_type": "code",
      "execution_count": null,
      "metadata": {
        "id": "hxz9-g9Kp7MR"
      },
      "outputs": [],
      "source": [
        "y_pred"
      ]
    },
    {
      "cell_type": "code",
      "execution_count": null,
      "metadata": {
        "id": "JRW4b9ZfqmG7"
      },
      "outputs": [],
      "source": [
        "y_data2"
      ]
    },
    {
      "cell_type": "code",
      "execution_count": null,
      "metadata": {
        "id": "rcNTz4xEqCRE"
      },
      "outputs": [],
      "source": [
        "(y_pred == y_data2).sum() / len(y_data2)\n",
        "# 예측값과 실제값 비교해 정확도 계산"
      ]
    },
    {
      "cell_type": "code",
      "execution_count": null,
      "metadata": {
        "id": "wTeVihAPqNHE"
      },
      "outputs": [],
      "source": []
    }
  ],
  "metadata": {
    "colab": {
      "provenance": []
    },
    "kernelspec": {
      "display_name": "Python 3",
      "name": "python3"
    },
    "language_info": {
      "name": "python"
    }
  },
  "nbformat": 4,
  "nbformat_minor": 0
}
